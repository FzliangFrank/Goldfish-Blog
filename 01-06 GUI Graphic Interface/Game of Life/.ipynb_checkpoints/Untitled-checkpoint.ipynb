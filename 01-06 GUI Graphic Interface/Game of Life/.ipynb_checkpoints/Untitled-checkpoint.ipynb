{
 "cells": [
  {
   "cell_type": "code",
   "execution_count": 3,
   "id": "a3172a1f",
   "metadata": {},
   "outputs": [
    {
     "name": "stdout",
     "output_type": "stream",
     "text": [
      "Collecting tomli\n",
      "  Using cached tomli-2.0.1-py3-none-any.whl (12 kB)\n",
      "Installing collected packages: tomli\n",
      "Successfully installed tomli-2.0.1\n",
      "\n",
      "\u001b[1m[\u001b[0m\u001b[34;49mnotice\u001b[0m\u001b[1;39;49m]\u001b[0m\u001b[39;49m A new release of pip is available: \u001b[0m\u001b[31;49m23.0.1\u001b[0m\u001b[39;49m -> \u001b[0m\u001b[32;49m23.3.2\u001b[0m\n",
      "\u001b[1m[\u001b[0m\u001b[34;49mnotice\u001b[0m\u001b[1;39;49m]\u001b[0m\u001b[39;49m To update, run: \u001b[0m\u001b[32;49mpip3.10 install --upgrade pip\u001b[0m\n",
      "Note: you may need to restart the kernel to use updated packages.\n"
     ]
    }
   ],
   "source": [
    "pip install tomli"
   ]
  },
  {
   "cell_type": "code",
   "execution_count": 5,
   "id": "089a817f",
   "metadata": {},
   "outputs": [],
   "source": [
    "from platform import python_version\n",
    "#jupyter kernelspec list"
   ]
  },
  {
   "cell_type": "code",
   "execution_count": 6,
   "id": "719a9e82",
   "metadata": {},
   "outputs": [],
   "source": [
    "import collections\n",
    "neighbors = (\n",
    "            (-1, -1),  # Above left\n",
    "            (-1, 0),  # Above\n",
    "            (-1, 1),  # Above right\n",
    "            (0, -1),  # Left\n",
    "            (0, 1),  # Right\n",
    "            (1, -1),  # Below left\n",
    "            (1, 0),  # Below\n",
    "            (1, 1),  # Below right\n",
    "        )\n",
    "num_neighbors = collections.defaultdict(int)\n",
    "num_neighbors[(0, 0)] =1\n",
    "num_neighbors[(0, 1)] = 2"
   ]
  },
  {
   "cell_type": "code",
   "execution_count": 2,
   "id": "cf339c1e",
   "metadata": {},
   "outputs": [],
   "source": [
    "default_dict = {}\n",
    "default_dict[(1,2)] = 1"
   ]
  },
  {
   "cell_type": "code",
   "execution_count": 10,
   "id": "360ceeb5",
   "metadata": {},
   "outputs": [
    {
     "name": "stdout",
     "output_type": "stream",
     "text": [
      " Blinker  \n",
      " · · · · ·\n",
      " · · · · ·\n",
      " · ♥︎ ♥︎ ♥︎ ·\n",
      " · · · · ·\n",
      " · · · · ·\n",
      " Blinker  \n",
      " · · · · ·\n",
      " · · ♥︎ · ·\n",
      " · · ♥︎ · ·\n",
      " · · ♥︎ · ·\n",
      " · · · · ·\n"
     ]
    }
   ],
   "source": [
    "from rplife import grid, patterns\n",
    "\n",
    "blinker = patterns.Pattern(\"Blinker\", {(2, 1), (2, 2), (2, 3)})\n",
    "grid = grid.LifeGrid(blinker)\n",
    "\n",
    "print(grid.as_string([0, 0, 5, 5]))\n",
    "print(grid.evolve().as_string([0,0,5,5]))"
   ]
  },
  {
   "cell_type": "code",
   "execution_count": 33,
   "id": "34120602",
   "metadata": {},
   "outputs": [],
   "source": [
    "print(grid.evolve().as_string([0,0,5,5]))"
   ]
  }
 ],
 "metadata": {
  "kernelspec": {
   "display_name": "Python 3 (ipykernel)",
   "language": "python",
   "name": "python3"
  },
  "language_info": {
   "codemirror_mode": {
    "name": "ipython",
    "version": 3
   },
   "file_extension": ".py",
   "mimetype": "text/x-python",
   "name": "python",
   "nbconvert_exporter": "python",
   "pygments_lexer": "ipython3",
   "version": "3.10.10"
  }
 },
 "nbformat": 4,
 "nbformat_minor": 5
}
