{
 "cells": [
  {
   "cell_type": "markdown",
   "metadata": {},
   "source": [
    "---\n",
    "title: \"Deep Learning with Python Summary Page\"\n",
    "---\n",
    "\n",
    "Ledgend:\n",
    "\n",
    "- [First Lab](01.12.ipynb) Explore linear matrix transformation effect for a two dimension array with two feature (just x and y)\n",
    "- [Second Follow the Deep Learning Book Chapter 3](01-13.ipynb) use example of IBM sentient analysis."
   ]
  }
 ],
 "metadata": {
  "language_info": {
   "name": "python"
  }
 },
 "nbformat": 4,
 "nbformat_minor": 2
}
