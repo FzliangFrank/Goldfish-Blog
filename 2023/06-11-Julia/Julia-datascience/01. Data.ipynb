{
 "cells": [
  {
   "attachments": {},
   "cell_type": "markdown",
   "metadata": {},
   "source": [
    "## Data\n",
    "Being able to easily load and process data is a crucial task that can make any data science more pleasant. In this notebook, we will cover most common types often encountered in data science tasks, and we will be using this data throughout the rest of this tutorial."
   ]
  },
  {
   "cell_type": "code",
   "execution_count": null,
   "metadata": {},
   "outputs": [],
   "source": [
    "using Pkg\n",
    "Pkg.add(\"DataFrames\")"
   ]
  },
  {
   "cell_type": "code",
   "execution_count": 3,
   "metadata": {},
   "outputs": [],
   "source": [
    "using BenchmarkTools\n",
    "using DataFrames\n",
    "using DelimitedFiles\n",
    "using CSV\n",
    "using XLSX\n",
    "using Downloads"
   ]
  },
  {
   "attachments": {},
   "cell_type": "markdown",
   "metadata": {},
   "source": [
    "# 🗃️ Get some data\n",
    "In Julia, it's pretty easy to dowload a file from the web using the `download` (https://docs.julialang.org/en/v1/stdlib/Downloads/) function. But also, you can use your favorite command line commad to download files by easily switching from Julia via the `;` key. Let's try both.\n",
    "\n",
    "Note: `download` depends on external tools such as curl, wget or fetch. So you must have one of these."
   ]
  },
  {
   "cell_type": "code",
   "execution_count": 4,
   "metadata": {},
   "outputs": [
    {
     "data": {
      "text/plain": [
       "\"programming_languages.csv\""
      ]
     },
     "metadata": {},
     "output_type": "display_data"
    }
   ],
   "source": [
    "P = Downloads.download(\"https://raw.githubusercontent.com/nassarhuda/easy_data/master/programming_languages.csv\",\n",
    "    \"programming_languages.csv\")"
   ]
  },
  {
   "attachments": {},
   "cell_type": "markdown",
   "metadata": {},
   "source": [
    "Another way would be to use a shell command to get the same file."
   ]
  },
  {
   "attachments": {},
   "cell_type": "markdown",
   "metadata": {},
   "source": [
    "# 📂 Read your data from text files.\n",
    "The key question here is to load data from files such as `csv` files, `xlsx` files, or just raw text files. We will go over some Julia packages that will allow us to read such files very easily.\n",
    "\n",
    "Let's start with the package `DelimitedFiles` which is in the standard library."
   ]
  },
  {
   "cell_type": "code",
   "execution_count": 5,
   "metadata": {},
   "outputs": [],
   "source": [
    "#=\n",
    "readdlm(source, \n",
    "    delim::AbstractChar, \n",
    "    T::Type, \n",
    "    eol::AbstractChar; \n",
    "    header=false, \n",
    "    skipstart=0, \n",
    "    skipblanks=true, \n",
    "    use_mmap, \n",
    "    quotes=true, \n",
    "    dims, \n",
    "    comments=false, \n",
    "    comment_char='#')\n",
    "=#\n",
    "P,H = readdlm(\"programming_languages.csv\",',';header=true);"
   ]
  },
  {
   "cell_type": "code",
   "execution_count": 6,
   "metadata": {},
   "outputs": [
    {
     "data": {
      "text/plain": [
       "1×2 Matrix{AbstractString}:\n",
       " \"year\"  \"language\""
      ]
     },
     "metadata": {},
     "output_type": "display_data"
    }
   ],
   "source": [
    "H"
   ]
  },
  {
   "cell_type": "code",
   "execution_count": 7,
   "metadata": {},
   "outputs": [],
   "source": [
    "# To write to a text file, you can:\n",
    "writedlm(\"programminglanguages_dlm.txt\", P, '-')"
   ]
  },
  {
   "attachments": {},
   "cell_type": "markdown",
   "metadata": {},
   "source": [
    "A more powerful package to use here is the `CSV` package. By default, the CSV package imports the data to a DataFrame, which can have several advantages as we will see below.\n",
    "\n",
    "In general,[`CSV.jl`](https://juliadata.github.io/CSV.jl/stable/) is the recommended way to load CSVs in Julia. Only use `DelimitedFiles` when you have a more complicated file where you want to specify several things."
   ]
  },
  {
   "cell_type": "code",
   "execution_count": 8,
   "metadata": {},
   "outputs": [],
   "source": [
    "C = CSV.read(\"programming_languages.csv\", DataFrame);"
   ]
  },
  {
   "cell_type": "code",
   "execution_count": 9,
   "metadata": {},
   "outputs": [
    {
     "name": "stdout",
     "output_type": "stream",
     "text": [
      "typeof(C) = DataFrame\n"
     ]
    },
    {
     "data": {
      "text/html": [
       "<table class=\"data-frame\"><thead><tr><th></th><th>year</th><th>language</th></tr><tr><th></th><th>Int64</th><th>String31</th></tr></thead><tbody><p>10 rows × 2 columns</p><tr><th>1</th><td>1951</td><td>Regional Assembly Language</td></tr><tr><th>2</th><td>1952</td><td>Autocode</td></tr><tr><th>3</th><td>1954</td><td>IPL</td></tr><tr><th>4</th><td>1955</td><td>FLOW-MATIC</td></tr><tr><th>5</th><td>1957</td><td>FORTRAN</td></tr><tr><th>6</th><td>1957</td><td>COMTRAN</td></tr><tr><th>7</th><td>1958</td><td>LISP</td></tr><tr><th>8</th><td>1958</td><td>ALGOL 58</td></tr><tr><th>9</th><td>1959</td><td>FACT</td></tr><tr><th>10</th><td>1959</td><td>COBOL</td></tr></tbody></table>"
      ],
      "text/latex": [
       "\\begin{tabular}{r|cc}\n",
       "\t& year & language\\\\\n",
       "\t\\hline\n",
       "\t& Int64 & String31\\\\\n",
       "\t\\hline\n",
       "\t1 & 1951 & Regional Assembly Language \\\\\n",
       "\t2 & 1952 & Autocode \\\\\n",
       "\t3 & 1954 & IPL \\\\\n",
       "\t4 & 1955 & FLOW-MATIC \\\\\n",
       "\t5 & 1957 & FORTRAN \\\\\n",
       "\t6 & 1957 & COMTRAN \\\\\n",
       "\t7 & 1958 & LISP \\\\\n",
       "\t8 & 1958 & ALGOL 58 \\\\\n",
       "\t9 & 1959 & FACT \\\\\n",
       "\t10 & 1959 & COBOL \\\\\n",
       "\\end{tabular}\n"
      ],
      "text/plain": [
       "\u001b[1m10×2 DataFrame\u001b[0m\n",
       "\u001b[1m Row \u001b[0m│\u001b[1m year  \u001b[0m\u001b[1m language                   \u001b[0m\n",
       "\u001b[1m     \u001b[0m│\u001b[90m Int64 \u001b[0m\u001b[90m String31                   \u001b[0m\n",
       "─────┼───────────────────────────────────\n",
       "   1 │  1951  Regional Assembly Language\n",
       "   2 │  1952  Autocode\n",
       "   3 │  1954  IPL\n",
       "   4 │  1955  FLOW-MATIC\n",
       "   5 │  1957  FORTRAN\n",
       "   6 │  1957  COMTRAN\n",
       "   7 │  1958  LISP\n",
       "   8 │  1958  ALGOL 58\n",
       "   9 │  1959  FACT\n",
       "  10 │  1959  COBOL"
      ]
     },
     "metadata": {},
     "output_type": "display_data"
    }
   ],
   "source": [
    "@show typeof(C)\n",
    "C[1:10,:]\n",
    "# C.year #[!,:year]"
   ]
  },
  {
   "cell_type": "code",
   "execution_count": 11,
   "metadata": {},
   "outputs": [
    {
     "name": "stdout",
     "output_type": "stream",
     "text": [
      "typeof(P) = Matrix{Any}\n"
     ]
    },
    {
     "data": {
      "text/plain": [
       "10×2 Matrix{Any}:\n",
       " 1951  \"Regional Assembly Language\"\n",
       " 1952  \"Autocode\"\n",
       " 1954  \"IPL\"\n",
       " 1955  \"FLOW-MATIC\"\n",
       " 1957  \"FORTRAN\"\n",
       " 1957  \"COMTRAN\"\n",
       " 1958  \"LISP\"\n",
       " 1958  \"ALGOL 58\"\n",
       " 1959  \"FACT\"\n",
       " 1959  \"COBOL\""
      ]
     },
     "metadata": {},
     "output_type": "display_data"
    }
   ],
   "source": [
    "@show typeof(P)\n",
    "P[1:10,:]"
   ]
  },
  {
   "cell_type": "code",
   "execution_count": 15,
   "metadata": {},
   "outputs": [
    {
     "data": {
      "text/plain": [
       "2-element Vector{String}:\n",
       " \"year\"\n",
       " \"language\""
      ]
     },
     "metadata": {},
     "output_type": "display_data"
    }
   ],
   "source": [
    "names(C)"
   ]
  },
  {
   "cell_type": "code",
   "execution_count": 13,
   "metadata": {},
   "outputs": [
    {
     "data": {
      "text/html": [
       "<table class=\"data-frame\"><thead><tr><th></th><th>variable</th><th>mean</th><th>min</th><th>median</th><th>max</th><th>nmissing</th><th>eltype</th></tr><tr><th></th><th>Symbol</th><th>Union…</th><th>Any</th><th>Union…</th><th>Any</th><th>Int64</th><th>DataType</th></tr></thead><tbody><p>2 rows × 7 columns</p><tr><th>1</th><td>year</td><td>1982.99</td><td>1951</td><td>1986.0</td><td>2014</td><td>0</td><td>Int64</td></tr><tr><th>2</th><td>language</td><td></td><td>ALGOL 58</td><td></td><td>dBase III</td><td>0</td><td>String31</td></tr></tbody></table>"
      ],
      "text/latex": [
       "\\begin{tabular}{r|ccccccc}\n",
       "\t& variable & mean & min & median & max & nmissing & eltype\\\\\n",
       "\t\\hline\n",
       "\t& Symbol & Union… & Any & Union… & Any & Int64 & DataType\\\\\n",
       "\t\\hline\n",
       "\t1 & year & 1982.99 & 1951 & 1986.0 & 2014 & 0 & Int64 \\\\\n",
       "\t2 & language &  & ALGOL 58 &  & dBase III & 0 & String31 \\\\\n",
       "\\end{tabular}\n"
      ],
      "text/plain": [
       "\u001b[1m2×7 DataFrame\u001b[0m\n",
       "\u001b[1m Row \u001b[0m│\u001b[1m variable \u001b[0m\u001b[1m mean    \u001b[0m\u001b[1m min      \u001b[0m\u001b[1m median \u001b[0m\u001b[1m max       \u001b[0m\u001b[1m nmissing \u001b[0m\u001b[1m eltype   \u001b[0m\n",
       "\u001b[1m     \u001b[0m│\u001b[90m Symbol   \u001b[0m\u001b[90m Union…  \u001b[0m\u001b[90m Any      \u001b[0m\u001b[90m Union… \u001b[0m\u001b[90m Any       \u001b[0m\u001b[90m Int64    \u001b[0m\u001b[90m DataType \u001b[0m\n",
       "─────┼────────────────────────────────────────────────────────────────────\n",
       "   1 │ year      1982.99  1951      1986.0  2014              0  Int64\n",
       "   2 │ language \u001b[90m         \u001b[0m ALGOL 58 \u001b[90m        \u001b[0m dBase III         0  String31"
      ]
     },
     "metadata": {},
     "output_type": "display_data"
    }
   ],
   "source": [
    "names(C)\n",
    "C.year\n",
    "C.language\n",
    "describe(C)"
   ]
  },
  {
   "cell_type": "code",
   "execution_count": 16,
   "metadata": {},
   "outputs": [
    {
     "name": "stdout",
     "output_type": "stream",
     "text": [
      "  200.875 μs (319 allocations: 50.66 KiB)\n"
     ]
    },
    {
     "name": "stdout",
     "output_type": "stream",
     "text": [
      "  113.958 μs (430 allocations: 47.70 KiB)\n"
     ]
    }
   ],
   "source": [
    "@btime P,H = readdlm(\"programming_languages.csv\",',';header=true);\n",
    "@btime C = CSV.read(\"programming_languages.csv\", DataFrame);"
   ]
  },
  {
   "cell_type": "code",
   "execution_count": 26,
   "metadata": {},
   "outputs": [
    {
     "data": {
      "text/plain": [
       "\"programminglanguages_CSV.csv\""
      ]
     },
     "metadata": {},
     "output_type": "display_data"
    }
   ],
   "source": [
    "# To write to a *.csv file using the CSV package\n",
    "CSV.write(\"programminglanguages_CSV.csv\", DataFrame(P, :auto))"
   ]
  },
  {
   "attachments": {},
   "cell_type": "markdown",
   "metadata": {},
   "source": [
    "Another type of files that we may often need to read is `XLSX` files. Let's try to read a new file."
   ]
  },
  {
   "cell_type": "code",
   "execution_count": 17,
   "metadata": {},
   "outputs": [
    {
     "data": {
      "text/plain": [
       "9×6 Matrix{Any}:\n",
       "      \"RegionID\"  \"RegionName\"    …      \"2008-03\"      \"2008-04\"\n",
       "  6181            \"New York\"             missing        missing\n",
       " 12447            \"Los Angeles\"      1446           1705\n",
       " 39051            \"Houston\"          2926           3121\n",
       " 17426            \"Chicago\"          2910           3022\n",
       "  6915            \"San Antonio\"   …  1479           1529\n",
       " 13271            \"Philadelphia\"     1609           1795\n",
       " 40326            \"Phoenix\"          1310           1519\n",
       " 18959            \"Las Vegas\"        1618           1856"
      ]
     },
     "metadata": {},
     "output_type": "display_data"
    }
   ],
   "source": [
    "T = XLSX.readdata(\"data/zillow_data_download_april2020.xlsx\", #file name\n",
    "    \"Sale_counts_city\", #sheet name\n",
    "    \"A1:F9\" #cell range\n",
    "    )"
   ]
  },
  {
   "attachments": {},
   "cell_type": "markdown",
   "metadata": {},
   "source": [
    "If you don't want to specify cell ranges... though this will take a little longer..."
   ]
  },
  {
   "cell_type": "code",
   "execution_count": 18,
   "metadata": {},
   "outputs": [],
   "source": [
    "G = XLSX.readtable(\"data/zillow_data_download_april2020.xlsx\",\"Sale_counts_city\");"
   ]
  },
  {
   "attachments": {},
   "cell_type": "markdown",
   "metadata": {},
   "source": [
    "Here, `G` is a tuple of two items. The first is an vector of vectors where each vector corresponds to a column in the excel file. And the second is the header with the column names."
   ]
  },
  {
   "cell_type": "code",
   "execution_count": 24,
   "metadata": {},
   "outputs": [
    {
     "ename": "MethodError",
     "evalue": "MethodError: no method matching getindex(::XLSX.DataTable, ::Int64)",
     "output_type": "error",
     "traceback": [
      "MethodError: no method matching getindex(::XLSX.DataTable, ::Int64)\n",
      "\n",
      "Stacktrace:\n",
      " [1] top-level scope\n",
      "   @ ~/Dropbox/Personal/code/Pet Project/06-11-Julia/Julia-datascience/01. Data.ipynb:1"
     ]
    }
   ],
   "source": [
    "G[1]"
   ]
  },
  {
   "cell_type": "code",
   "execution_count": 20,
   "metadata": {},
   "outputs": [
    {
     "ename": "MethodError",
     "evalue": "MethodError: no method matching getindex(::XLSX.DataTable, ::Int64)",
     "output_type": "error",
     "traceback": [
      "MethodError: no method matching getindex(::XLSX.DataTable, ::Int64)\n",
      "\n",
      "Stacktrace:\n",
      " [1] top-level scope\n",
      "   @ ~/Dropbox/Personal/code/Pet Project/06-11-Julia/Julia-datascience/01. Data.ipynb:1"
     ]
    }
   ],
   "source": [
    "G[1][1][1:10]"
   ]
  },
  {
   "cell_type": "code",
   "execution_count": 21,
   "metadata": {},
   "outputs": [
    {
     "ename": "MethodError",
     "evalue": "MethodError: no method matching getindex(::XLSX.DataTable, ::Int64)",
     "output_type": "error",
     "traceback": [
      "MethodError: no method matching getindex(::XLSX.DataTable, ::Int64)\n",
      "\n",
      "Stacktrace:\n",
      " [1] top-level scope\n",
      "   @ ~/Dropbox/Personal/code/Pet Project/06-11-Julia/Julia-datascience/01. Data.ipynb:1"
     ]
    }
   ],
   "source": [
    "G[2][1:10]"
   ]
  },
  {
   "attachments": {},
   "cell_type": "markdown",
   "metadata": {},
   "source": [
    "And we can easily store this data in a DataFrame. `DataFrame(G...)` uses the \"splat\" operator to _unwrap_ these arrays and pass them to the DataFrame constructor."
   ]
  },
  {
   "cell_type": "code",
   "execution_count": 22,
   "metadata": {},
   "outputs": [
    {
     "ename": "MethodError",
     "evalue": "MethodError: no method matching iterate(::XLSX.DataTable)\n\nClosest candidates are:\n  iterate(!Matched::Union{LinRange, StepRangeLen})\n   @ Base range.jl:880\n  iterate(!Matched::Union{LinRange, StepRangeLen}, !Matched::Integer)\n   @ Base range.jl:880\n  iterate(!Matched::T) where T<:Union{Base.KeySet{<:Any, <:Dict}, Base.ValueIterator{<:Dict}}\n   @ Base dict.jl:698\n  ...\n",
     "output_type": "error",
     "traceback": [
      "MethodError: no method matching iterate(::XLSX.DataTable)\n",
      "\n",
      "Closest candidates are:\n",
      "  iterate(!Matched::Union{LinRange, StepRangeLen})\n",
      "   @ Base range.jl:880\n",
      "  iterate(!Matched::Union{LinRange, StepRangeLen}, !Matched::Integer)\n",
      "   @ Base range.jl:880\n",
      "  iterate(!Matched::T) where T<:Union{Base.KeySet{<:Any, <:Dict}, Base.ValueIterator{<:Dict}}\n",
      "   @ Base dict.jl:698\n",
      "  ...\n",
      "\n",
      "\n",
      "Stacktrace:\n",
      " [1] top-level scope\n",
      "   @ ~/Dropbox/Personal/code/Pet Project/06-11-Julia/Julia-datascience/01. Data.ipynb:1"
     ]
    }
   ],
   "source": [
    "D = DataFrame(G...) # equivalent to DataFrame(G[1],G[2])"
   ]
  },
  {
   "cell_type": "code",
   "execution_count": 31,
   "metadata": {},
   "outputs": [
    {
     "data": {
      "text/html": [
       "<table class=\"data-frame\"><thead><tr><th></th><th>item</th><th>price</th></tr><tr><th></th><th>String</th><th>Float64</th></tr></thead><tbody><p>4 rows × 2 columns</p><tr><th>1</th><td>apple</td><td>0.85</td></tr><tr><th>2</th><td>cucumber</td><td>1.6</td></tr><tr><th>3</th><td>tomato</td><td>0.8</td></tr><tr><th>4</th><td>banana</td><td>0.6</td></tr></tbody></table>"
      ],
      "text/latex": [
       "\\begin{tabular}{r|cc}\n",
       "\t& item & price\\\\\n",
       "\t\\hline\n",
       "\t& String & Float64\\\\\n",
       "\t\\hline\n",
       "\t1 & apple & 0.85 \\\\\n",
       "\t2 & cucumber & 1.6 \\\\\n",
       "\t3 & tomato & 0.8 \\\\\n",
       "\t4 & banana & 0.6 \\\\\n",
       "\\end{tabular}\n"
      ],
      "text/plain": [
       "\u001b[1m4×2 DataFrame\u001b[0m\n",
       "\u001b[1m Row \u001b[0m│\u001b[1m item     \u001b[0m\u001b[1m price   \u001b[0m\n",
       "\u001b[1m     \u001b[0m│\u001b[90m String   \u001b[0m\u001b[90m Float64 \u001b[0m\n",
       "─────┼───────────────────\n",
       "   1 │ apple        0.85\n",
       "   2 │ cucumber     1.6\n",
       "   3 │ tomato       0.8\n",
       "   4 │ banana       0.6"
      ]
     },
     "metadata": {},
     "output_type": "display_data"
    }
   ],
   "source": [
    "foods = [\"apple\", \"cucumber\", \"tomato\", \"banana\"]\n",
    "calories = [105,47,22,105]\n",
    "prices = [0.85,1.6,0.8,0.6,]\n",
    "dataframe_calories = DataFrame(item=foods,calories=calories)\n",
    "dataframe_prices = DataFrame(item=foods,price=prices)"
   ]
  },
  {
   "cell_type": "code",
   "execution_count": 23,
   "metadata": {},
   "outputs": [
    {
     "ename": "UndefVarError",
     "evalue": "UndefVarError: `dataframe_calories` not defined",
     "output_type": "error",
     "traceback": [
      "UndefVarError: `dataframe_calories` not defined\n",
      "\n",
      "Stacktrace:\n",
      " [1] top-level scope\n",
      "   @ ~/Dropbox/Personal/code/Pet Project/06-11-Julia/Julia-datascience/01. Data.ipynb:1"
     ]
    }
   ],
   "source": [
    "DF = innerjoin(dataframe_calories,dataframe_prices,on=:item)"
   ]
  },
  {
   "cell_type": "code",
   "execution_count": 33,
   "metadata": {},
   "outputs": [
    {
     "data": {
      "text/html": [
       "<table class=\"data-frame\"><thead><tr><th></th><th>x1</th><th>x2</th><th>x3</th><th>x4</th><th>x5</th><th>x6</th></tr><tr><th></th><th>Any</th><th>Any</th><th>Any</th><th>Any</th><th>Any</th><th>Any</th></tr></thead><tbody><p>9 rows × 6 columns</p><tr><th>1</th><td>RegionID</td><td>RegionName</td><td>StateName</td><td>SizeRank</td><td>2008-03</td><td>2008-04</td></tr><tr><th>2</th><td>6181</td><td>New York</td><td>New York</td><td>1</td><td><em>missing</em></td><td><em>missing</em></td></tr><tr><th>3</th><td>12447</td><td>Los Angeles</td><td>California</td><td>2</td><td>1446</td><td>1705</td></tr><tr><th>4</th><td>39051</td><td>Houston</td><td>Texas</td><td>3</td><td>2926</td><td>3121</td></tr><tr><th>5</th><td>17426</td><td>Chicago</td><td>Illinois</td><td>4</td><td>2910</td><td>3022</td></tr><tr><th>6</th><td>6915</td><td>San Antonio</td><td>Texas</td><td>5</td><td>1479</td><td>1529</td></tr><tr><th>7</th><td>13271</td><td>Philadelphia</td><td>Pennsylvania</td><td>6</td><td>1609</td><td>1795</td></tr><tr><th>8</th><td>40326</td><td>Phoenix</td><td>Arizona</td><td>7</td><td>1310</td><td>1519</td></tr><tr><th>9</th><td>18959</td><td>Las Vegas</td><td>Nevada</td><td>8</td><td>1618</td><td>1856</td></tr></tbody></table>"
      ],
      "text/latex": [
       "\\begin{tabular}{r|cccccc}\n",
       "\t& x1 & x2 & x3 & x4 & x5 & x6\\\\\n",
       "\t\\hline\n",
       "\t& Any & Any & Any & Any & Any & Any\\\\\n",
       "\t\\hline\n",
       "\t1 & RegionID & RegionName & StateName & SizeRank & 2008-03 & 2008-04 \\\\\n",
       "\t2 & 6181 & New York & New York & 1 & \\emph{missing} & \\emph{missing} \\\\\n",
       "\t3 & 12447 & Los Angeles & California & 2 & 1446 & 1705 \\\\\n",
       "\t4 & 39051 & Houston & Texas & 3 & 2926 & 3121 \\\\\n",
       "\t5 & 17426 & Chicago & Illinois & 4 & 2910 & 3022 \\\\\n",
       "\t6 & 6915 & San Antonio & Texas & 5 & 1479 & 1529 \\\\\n",
       "\t7 & 13271 & Philadelphia & Pennsylvania & 6 & 1609 & 1795 \\\\\n",
       "\t8 & 40326 & Phoenix & Arizona & 7 & 1310 & 1519 \\\\\n",
       "\t9 & 18959 & Las Vegas & Nevada & 8 & 1618 & 1856 \\\\\n",
       "\\end{tabular}\n"
      ],
      "text/plain": [
       "\u001b[1m9×6 DataFrame\u001b[0m\n",
       "\u001b[1m Row \u001b[0m│\u001b[1m x1       \u001b[0m\u001b[1m x2           \u001b[0m\u001b[1m x3           \u001b[0m\u001b[1m x4       \u001b[0m\u001b[1m x5      \u001b[0m\u001b[1m x6      \u001b[0m\n",
       "\u001b[1m     \u001b[0m│\u001b[90m Any      \u001b[0m\u001b[90m Any          \u001b[0m\u001b[90m Any          \u001b[0m\u001b[90m Any      \u001b[0m\u001b[90m Any     \u001b[0m\u001b[90m Any     \u001b[0m\n",
       "─────┼──────────────────────────────────────────────────────────────────\n",
       "   1 │ RegionID  RegionName    StateName     SizeRank  2008-03  2008-04\n",
       "   2 │ 6181      New York      New York      1        \u001b[90m missing \u001b[0m\u001b[90m missing \u001b[0m\n",
       "   3 │ 12447     Los Angeles   California    2         1446     1705\n",
       "   4 │ 39051     Houston       Texas         3         2926     3121\n",
       "   5 │ 17426     Chicago       Illinois      4         2910     3022\n",
       "   6 │ 6915      San Antonio   Texas         5         1479     1529\n",
       "   7 │ 13271     Philadelphia  Pennsylvania  6         1609     1795\n",
       "   8 │ 40326     Phoenix       Arizona       7         1310     1519\n",
       "   9 │ 18959     Las Vegas     Nevada        8         1618     1856"
      ]
     },
     "metadata": {},
     "output_type": "display_data"
    }
   ],
   "source": [
    "# we can also use the DataFrame constructor on a Matrix\n",
    "DataFrame(T, :auto)"
   ]
  },
  {
   "attachments": {},
   "cell_type": "markdown",
   "metadata": {},
   "source": [
    "You can also easily write data to an XLSX file"
   ]
  },
  {
   "cell_type": "code",
   "execution_count": 35,
   "metadata": {},
   "outputs": [
    {
     "ename": "MethodError",
     "evalue": "MethodError: no method matching getindex(::XLSX.DataTable, ::Int64)",
     "output_type": "error",
     "traceback": [
      "MethodError: no method matching getindex(::XLSX.DataTable, ::Int64)\n",
      "\n",
      "Stacktrace:\n",
      " [1] top-level scope\n",
      "   @ ~/Dropbox/Personal/code/Pet Project/06-11-Julia/Julia-datascience/01. Data.ipynb:3"
     ]
    }
   ],
   "source": [
    "# if you already have a dataframe: \n",
    "# XLSX.writetable(\"filename.xlsx\", collect(DataFrames.eachcol(df)), DataFrames.names(df))\n",
    "XLSX.writetable(\"writefile_using_XLSX.xlsx\",G[1],G[2])"
   ]
  },
  {
   "attachments": {},
   "cell_type": "markdown",
   "metadata": {},
   "source": [
    "## ⬇️ Importing your data\n",
    "\n",
    "Often, the data you want to import is not stored in plain text, and you might want to import different kinds of types. Here we will go over importing `jld`, `npz`, `rda`, and `mat` files. Hopefully, these four will capture the types from four common programming languages used in Data Science (Julia, Python, R, Matlab).\n",
    "\n",
    "We will use a toy example here of a very small matrix. But the same syntax will hold for bigger files.\n",
    "\n",
    "```\n",
    "4×5 Array{Int64,2}:\n",
    " 2  1446  1705  1795  1890\n",
    " 3  2926  3121  3220  3405\n",
    " 4  2910  3022  2937  3224\n",
    " 5  1479  1529  1582  1761\n",
    " ```"
   ]
  },
  {
   "cell_type": "code",
   "execution_count": 38,
   "metadata": {},
   "outputs": [],
   "source": [
    "using JLD\n",
    "jld_data = JLD.load(\"data/mytempdata.jld\")\n",
    "save(\"mywrite.jld\", \"A\", jld_data)"
   ]
  },
  {
   "cell_type": "code",
   "execution_count": 39,
   "metadata": {},
   "outputs": [],
   "source": [
    "using NPZ\n",
    "npz_data = npzread(\"data/mytempdata.npz\")\n",
    "npzwrite(\"mywrite.npz\", npz_data)"
   ]
  },
  {
   "cell_type": "code",
   "execution_count": 41,
   "metadata": {},
   "outputs": [
    {
     "data": {
      "text/plain": [
       "RObject{NilSxp}\n",
       "NULL\n"
      ]
     },
     "metadata": {},
     "output_type": "display_data"
    }
   ],
   "source": [
    "using RData\n",
    "R_data = RData.load(\"data/mytempdata.rda\")\n",
    "# We'll need RCall to save here. https://github.com/JuliaData/RData.jl/issues/56\n",
    "using RCall\n",
    "@rput R_data\n",
    "R\"save(R_data, file=\\\"mywrite.rda\\\")\""
   ]
  },
  {
   "cell_type": "code",
   "execution_count": 42,
   "metadata": {},
   "outputs": [],
   "source": [
    "using MAT\n",
    "Matlab_data = matread(\"data/mytempdata.mat\")\n",
    "matwrite(\"mywrite.mat\",Matlab_data)"
   ]
  },
  {
   "cell_type": "code",
   "execution_count": 43,
   "metadata": {},
   "outputs": [
    {
     "name": "stdout",
     "output_type": "stream",
     "text": [
      "typeof(jld_data) = Dict{String, Any}\n",
      "typeof(npz_data) = Matrix{Int64}\n",
      "typeof(R_data) = Dict{String, Any}\n",
      "typeof(Matlab_data) = Dict{String, Any}\n"
     ]
    }
   ],
   "source": [
    "@show typeof(jld_data)\n",
    "@show typeof(npz_data)\n",
    "@show typeof(R_data)\n",
    "@show typeof(Matlab_data)\n",
    ";"
   ]
  },
  {
   "cell_type": "code",
   "execution_count": 44,
   "metadata": {},
   "outputs": [
    {
     "data": {
      "text/plain": [
       "Dict{String, Any} with 1 entry:\n",
       "  \"tempdata\" => [2 1446 … 1795 1890; 3 2926 … 3220 3405; 4 2910 … 2937 3224; 5 …"
      ]
     },
     "metadata": {},
     "output_type": "display_data"
    }
   ],
   "source": [
    "Matlab_data"
   ]
  },
  {
   "attachments": {},
   "cell_type": "markdown",
   "metadata": {},
   "source": [
    "# 🔢 Time to process the data from Julia\n",
    "We will mainly cover `Matrix` (or `Vector`), `DataFrame`s, and `dict`s (or dictionaries). Let's bring back our programming languages dataset and start playing it the matrix it's stored in."
   ]
  },
  {
   "cell_type": "code",
   "execution_count": 45,
   "metadata": {},
   "outputs": [
    {
     "data": {
      "text/plain": [
       "73×2 Matrix{Any}:\n",
       " 1951  \"Regional Assembly Language\"\n",
       " 1952  \"Autocode\"\n",
       " 1954  \"IPL\"\n",
       " 1955  \"FLOW-MATIC\"\n",
       " 1957  \"FORTRAN\"\n",
       " 1957  \"COMTRAN\"\n",
       " 1958  \"LISP\"\n",
       " 1958  \"ALGOL 58\"\n",
       " 1959  \"FACT\"\n",
       " 1959  \"COBOL\"\n",
       "    ⋮  \n",
       " 2007  \"Clojure\"\n",
       " 2009  \"Go\"\n",
       " 2010  \"Rust\"\n",
       " 2011  \"Dart\"\n",
       " 2011  \"Kotlin\"\n",
       " 2011  \"Red\"\n",
       " 2011  \"Elixir\"\n",
       " 2012  \"Julia\"\n",
       " 2014  \"Swift\""
      ]
     },
     "metadata": {},
     "output_type": "display_data"
    }
   ],
   "source": [
    "P"
   ]
  },
  {
   "attachments": {},
   "cell_type": "markdown",
   "metadata": {},
   "source": [
    "Here are some quick questions we might want to ask about this simple data.\n",
    "- Which year was was a given language invented?\n",
    "- How many languages were created in a given year?"
   ]
  },
  {
   "cell_type": "code",
   "execution_count": 25,
   "metadata": {},
   "outputs": [
    {
     "data": {
      "text/plain": [
       "2012"
      ]
     },
     "metadata": {},
     "output_type": "display_data"
    }
   ],
   "source": [
    "# Q1: Which year was was a given language invented?\n",
    "function year_created(P,language::String)\n",
    "    loc = findfirst(P[:,2] .== language)\n",
    "    return P[loc,1]\n",
    "end\n",
    "year_created(P,\"Julia\")"
   ]
  },
  {
   "cell_type": "code",
   "execution_count": 28,
   "metadata": {},
   "outputs": [],
   "source": []
  },
  {
   "cell_type": "code",
   "execution_count": 29,
   "metadata": {},
   "outputs": [
    {
     "ename": "ErrorException",
     "evalue": "Error: Language not found.",
     "output_type": "error",
     "traceback": [
      "Error: Language not found.\n",
      "\n",
      "Stacktrace:\n",
      " [1] error(s::String)\n",
      "   @ Base ./error.jl:35\n",
      " [2] year_created_handle_error(P::Matrix{Any}, language::String)\n",
      "   @ Main ~/Dropbox/Personal/code/Pet Project/06-11-Julia/Julia-datascience/01. Data.ipynb:4\n",
      " [3] top-level scope\n",
      "   @ ~/Dropbox/Personal/code/Pet Project/06-11-Julia/Julia-datascience/01. Data.ipynb:6"
     ]
    }
   ],
   "source": [
    "function year_created_handle_error(P,language::String)\n",
    "    loc = findfirst(P[:,2] .== language)\n",
    "    !isnothing(loc) && return P[loc,1]\n",
    "    error(\"Error: Language not found.\")\n",
    "end\n",
    "year_created_handle_error(P,\"W\")"
   ]
  },
  {
   "cell_type": "code",
   "execution_count": 30,
   "metadata": {},
   "outputs": [
    {
     "data": {
      "text/plain": [
       "4"
      ]
     },
     "metadata": {},
     "output_type": "display_data"
    }
   ],
   "source": [
    "# Q2: How many languages were created in a given year?\n",
    "function how_many_per_year(P,year::Int64)\n",
    "    year_count = length(findall(P[:,1].==year))\n",
    "    return year_count\n",
    "end\n",
    "how_many_per_year(P,2011)"
   ]
  },
  {
   "attachments": {},
   "cell_type": "markdown",
   "metadata": {},
   "source": [
    "Now let's try to store this data in a DataFrame..."
   ]
  },
  {
   "cell_type": "code",
   "execution_count": 33,
   "metadata": {},
   "outputs": [
    {
     "data": {
      "text/html": [
       "<table class=\"data-frame\"><thead><tr><th></th><th>year</th><th>language</th></tr><tr><th></th><th>Int64</th><th>String31</th></tr></thead><tbody><p>73 rows × 2 columns</p><tr><th>1</th><td>1951</td><td>Regional Assembly Language</td></tr><tr><th>2</th><td>1952</td><td>Autocode</td></tr><tr><th>3</th><td>1954</td><td>IPL</td></tr><tr><th>4</th><td>1955</td><td>FLOW-MATIC</td></tr><tr><th>5</th><td>1957</td><td>FORTRAN</td></tr><tr><th>6</th><td>1957</td><td>COMTRAN</td></tr><tr><th>7</th><td>1958</td><td>LISP</td></tr><tr><th>8</th><td>1958</td><td>ALGOL 58</td></tr><tr><th>9</th><td>1959</td><td>FACT</td></tr><tr><th>10</th><td>1959</td><td>COBOL</td></tr><tr><th>11</th><td>1959</td><td>RPG</td></tr><tr><th>12</th><td>1962</td><td>APL</td></tr><tr><th>13</th><td>1962</td><td>Simula</td></tr><tr><th>14</th><td>1962</td><td>SNOBOL</td></tr><tr><th>15</th><td>1963</td><td>CPL</td></tr><tr><th>16</th><td>1964</td><td>Speakeasy</td></tr><tr><th>17</th><td>1964</td><td>BASIC</td></tr><tr><th>18</th><td>1964</td><td>PL/I</td></tr><tr><th>19</th><td>1966</td><td>JOSS</td></tr><tr><th>20</th><td>1967</td><td>BCPL</td></tr><tr><th>21</th><td>1968</td><td>Logo</td></tr><tr><th>22</th><td>1969</td><td>B</td></tr><tr><th>23</th><td>1970</td><td>Pascal</td></tr><tr><th>24</th><td>1970</td><td>Forth</td></tr><tr><th>&vellip;</th><td>&vellip;</td><td>&vellip;</td></tr></tbody></table>"
      ],
      "text/latex": [
       "\\begin{tabular}{r|cc}\n",
       "\t& year & language\\\\\n",
       "\t\\hline\n",
       "\t& Int64 & String31\\\\\n",
       "\t\\hline\n",
       "\t1 & 1951 & Regional Assembly Language \\\\\n",
       "\t2 & 1952 & Autocode \\\\\n",
       "\t3 & 1954 & IPL \\\\\n",
       "\t4 & 1955 & FLOW-MATIC \\\\\n",
       "\t5 & 1957 & FORTRAN \\\\\n",
       "\t6 & 1957 & COMTRAN \\\\\n",
       "\t7 & 1958 & LISP \\\\\n",
       "\t8 & 1958 & ALGOL 58 \\\\\n",
       "\t9 & 1959 & FACT \\\\\n",
       "\t10 & 1959 & COBOL \\\\\n",
       "\t11 & 1959 & RPG \\\\\n",
       "\t12 & 1962 & APL \\\\\n",
       "\t13 & 1962 & Simula \\\\\n",
       "\t14 & 1962 & SNOBOL \\\\\n",
       "\t15 & 1963 & CPL \\\\\n",
       "\t16 & 1964 & Speakeasy \\\\\n",
       "\t17 & 1964 & BASIC \\\\\n",
       "\t18 & 1964 & PL/I \\\\\n",
       "\t19 & 1966 & JOSS \\\\\n",
       "\t20 & 1967 & BCPL \\\\\n",
       "\t21 & 1968 & Logo \\\\\n",
       "\t22 & 1969 & B \\\\\n",
       "\t23 & 1970 & Pascal \\\\\n",
       "\t24 & 1970 & Forth \\\\\n",
       "\t$\\dots$ & $\\dots$ & $\\dots$ \\\\\n",
       "\\end{tabular}\n"
      ],
      "text/plain": [
       "\u001b[1m73×2 DataFrame\u001b[0m\n",
       "\u001b[1m Row \u001b[0m│\u001b[1m year  \u001b[0m\u001b[1m language                   \u001b[0m\n",
       "\u001b[1m     \u001b[0m│\u001b[90m Int64 \u001b[0m\u001b[90m String31                   \u001b[0m\n",
       "─────┼───────────────────────────────────\n",
       "   1 │  1951  Regional Assembly Language\n",
       "   2 │  1952  Autocode\n",
       "   3 │  1954  IPL\n",
       "   4 │  1955  FLOW-MATIC\n",
       "   5 │  1957  FORTRAN\n",
       "   6 │  1957  COMTRAN\n",
       "   7 │  1958  LISP\n",
       "   8 │  1958  ALGOL 58\n",
       "  ⋮  │   ⋮                ⋮\n",
       "  67 │  2010  Rust\n",
       "  68 │  2011  Dart\n",
       "  69 │  2011  Kotlin\n",
       "  70 │  2011  Red\n",
       "  71 │  2011  Elixir\n",
       "  72 │  2012  Julia\n",
       "  73 │  2014  Swift\n",
       "\u001b[36m                          58 rows omitted\u001b[0m"
      ]
     },
     "metadata": {},
     "output_type": "display_data"
    }
   ],
   "source": [
    "P_df = C #DataFrame(year = P[:,1], language = P[:,2]) # or DataFrame(P)"
   ]
  },
  {
   "cell_type": "code",
   "execution_count": null,
   "metadata": {},
   "outputs": [],
   "source": [
    "# Even better, since we know the types of each column, we can create the DataFrame as follows:\n",
    "# P_df = DataFrame(year = Int.(P[:,1]), language = string.(P[:,2]))"
   ]
  },
  {
   "attachments": {},
   "cell_type": "markdown",
   "metadata": {},
   "source": [
    "And now let's answer the same questions we just answered..."
   ]
  },
  {
   "cell_type": "code",
   "execution_count": 34,
   "metadata": {},
   "outputs": [
    {
     "data": {
      "text/plain": [
       "2012"
      ]
     },
     "metadata": {},
     "output_type": "display_data"
    }
   ],
   "source": [
    "# Q1: Which year was was a given language invented?\n",
    "# it's a little more intuitive and you don't need to remember the column ids\n",
    "function year_created(P_df,language::String)\n",
    "    loc = findfirst(P_df.language .== language)\n",
    "    return P_df.year[loc]\n",
    "end\n",
    "year_created(P_df,\"Julia\")"
   ]
  },
  {
   "cell_type": "code",
   "execution_count": 35,
   "metadata": {},
   "outputs": [
    {
     "ename": "ArgumentError",
     "evalue": "ArgumentError: invalid index: nothing of type Nothing",
     "output_type": "error",
     "traceback": [
      "ArgumentError: invalid index: nothing of type Nothing\n",
      "\n",
      "Stacktrace:\n",
      " [1] to_index(i::Nothing)\n",
      "   @ Base ./indices.jl:300\n",
      " [2] to_index(A::Vector{Int64}, i::Nothing)\n",
      "   @ Base ./indices.jl:277\n",
      " [3] _to_indices1(A::Vector{Int64}, inds::Tuple{Base.OneTo{Int64}}, I1::Nothing)\n",
      "   @ Base ./indices.jl:359\n",
      " [4] to_indices\n",
      "   @ ./indices.jl:354 [inlined]\n",
      " [5] to_indices\n",
      "   @ ./indices.jl:345 [inlined]\n",
      " [6] getindex(A::Vector{Int64}, I::Nothing)\n",
      "   @ Base ./abstractarray.jl:1294\n",
      " [7] year_created(P_df::DataFrame, language::String)\n",
      "   @ Main ~/Dropbox/Personal/code/Pet Project/06-11-Julia/Julia-datascience/01. Data.ipynb:5\n",
      " [8] top-level scope\n",
      "   @ ~/Dropbox/Personal/code/Pet Project/06-11-Julia/Julia-datascience/01. Data.ipynb:1"
     ]
    }
   ],
   "source": [
    "year_created(P_df,\"W\")"
   ]
  },
  {
   "cell_type": "code",
   "execution_count": 36,
   "metadata": {},
   "outputs": [
    {
     "ename": "ErrorException",
     "evalue": "Error: Language not found.",
     "output_type": "error",
     "traceback": [
      "Error: Language not found.\n",
      "\n",
      "Stacktrace:\n",
      " [1] error(s::String)\n",
      "   @ Base ./error.jl:35\n",
      " [2] year_created_handle_error(P_df::DataFrame, language::String)\n",
      "   @ Main ~/Dropbox/Personal/code/Pet Project/06-11-Julia/Julia-datascience/01. Data.ipynb:4\n",
      " [3] top-level scope\n",
      "   @ ~/Dropbox/Personal/code/Pet Project/06-11-Julia/Julia-datascience/01. Data.ipynb:6"
     ]
    }
   ],
   "source": [
    "function year_created_handle_error(P_df,language::String)\n",
    "    loc = findfirst(P_df.language .== language)\n",
    "    !isnothing(loc) && return P_df.year[loc]\n",
    "    error(\"Error: Language not found.\")\n",
    "end\n",
    "year_created_handle_error(P_df,\"W\")"
   ]
  },
  {
   "cell_type": "code",
   "execution_count": 37,
   "metadata": {},
   "outputs": [
    {
     "data": {
      "text/plain": [
       "4"
      ]
     },
     "metadata": {},
     "output_type": "display_data"
    }
   ],
   "source": [
    "# Q2: How many languages were created in a given year?\n",
    "function how_many_per_year(P_df,year::Int64)\n",
    "    year_count = length(findall(P_df.year.==year))\n",
    "    return year_count\n",
    "end\n",
    "how_many_per_year(P_df,2011)"
   ]
  },
  {
   "attachments": {},
   "cell_type": "markdown",
   "metadata": {},
   "source": [
    "Next, we'll use dictionaries. A quick way to create a dictionary is with the `Dict()` command. But this creates a dictionary without types. Here, we will specify the types of this dictionary."
   ]
  },
  {
   "cell_type": "code",
   "execution_count": 38,
   "metadata": {},
   "outputs": [
    {
     "data": {
      "text/plain": [
       "Dict{Any, Any} with 3 entries:\n",
       "  \"B\" => 2\n",
       "  \"A\" => 1\n",
       "  1   => [1, 2]"
      ]
     },
     "metadata": {},
     "output_type": "display_data"
    }
   ],
   "source": [
    "# A quick example to show how to build a dictionary\n",
    "Dict([(\"A\", 1), (\"B\", 2),(1,[1,2])])"
   ]
  },
  {
   "cell_type": "code",
   "execution_count": 57,
   "metadata": {},
   "outputs": [
    {
     "data": {
      "text/plain": [
       "Dict{Integer, Vector{String}}()"
      ]
     },
     "metadata": {},
     "output_type": "display_data"
    }
   ],
   "source": [
    "P_dictionary = Dict{Integer,Vector{String}}()"
   ]
  },
  {
   "cell_type": "code",
   "execution_count": null,
   "metadata": {},
   "outputs": [],
   "source": [
    "#P_dictionary[67] = [\"julia\",\"programming\"]"
   ]
  },
  {
   "cell_type": "code",
   "execution_count": 58,
   "metadata": {},
   "outputs": [
    {
     "ename": "MethodError",
     "evalue": "MethodError: Cannot `convert` an object of type String to an object of type Integer\n\nClosest candidates are:\n  convert(::Type{T}, !Matched::Ptr) where T<:Integer\n   @ Base pointer.jl:23\n  convert(::Type{I}, !Matched::Type{F}) where {I<:Integer, F<:HDF5.Filters.Filter}\n   @ HDF5 ~/.julia/packages/HDF5/aiZLs/src/filters/filters.jl:428\n  convert(::Type{T}, !Matched::Base.TwicePrecision) where T<:Number\n   @ Base twiceprecision.jl:273\n  ...\n",
     "output_type": "error",
     "traceback": [
      "MethodError: Cannot `convert` an object of type String to an object of type Integer\n",
      "\n",
      "Closest candidates are:\n",
      "  convert(::Type{T}, !Matched::Ptr) where T<:Integer\n",
      "   @ Base pointer.jl:23\n",
      "  convert(::Type{I}, !Matched::Type{F}) where {I<:Integer, F<:HDF5.Filters.Filter}\n",
      "   @ HDF5 ~/.julia/packages/HDF5/aiZLs/src/filters/filters.jl:428\n",
      "  convert(::Type{T}, !Matched::Base.TwicePrecision) where T<:Number\n",
      "   @ Base twiceprecision.jl:273\n",
      "  ...\n",
      "\n",
      "\n",
      "Stacktrace:\n",
      " [1] setindex!(h::Dict{Integer, Vector{String}}, v0::Int64, key0::String)\n",
      "   @ Base ./dict.jl:361\n",
      " [2] top-level scope\n",
      "   @ ~/Dropbox/Personal/code/Pet Project/06-11-Julia/Julia-datascience/01. Data.ipynb:2"
     ]
    }
   ],
   "source": [
    "# this is not going to work.\n",
    "P_dictionary[\"julia\"] = 7"
   ]
  },
  {
   "attachments": {},
   "cell_type": "markdown",
   "metadata": {},
   "source": [
    "Now, let's populate the dictionary with years as keys and vectors that hold all the programming languages created in each year as their values. Even though this looks like more work, we often need to do it just once."
   ]
  },
  {
   "cell_type": "code",
   "execution_count": 60,
   "metadata": {},
   "outputs": [],
   "source": [
    "dict = Dict{Integer,Vector{String}}()\n",
    "for i = 1:size(P,1)\n",
    "    year,lang = P[i,:]\n",
    "    if year in keys(dict)\n",
    "        dict[year] = push!(dict[year],lang) \n",
    "        # note that push! is not our favorite thing to do in Julia, \n",
    "        # but we're focusing on correctness rather than speed here\n",
    "    else\n",
    "        dict[year] = [lang]\n",
    "    end\n",
    "end"
   ]
  },
  {
   "cell_type": "code",
   "execution_count": 61,
   "metadata": {},
   "outputs": [],
   "source": [
    "# Though a smarter way to do this is:\n",
    "curyear = P_df.year[1]\n",
    "P_dictionary[curyear] = [P_df.language[1]]\n",
    "for (i,nextyear) in enumerate(P_df.year[2:end])\n",
    "    if nextyear == curyear\n",
    "        #same key\n",
    "        P_dictionary[curyear] = push!(P_dictionary[curyear],P_df.language[i+1])\n",
    "        # note that push! is not our favorite thing to do in Julia, \n",
    "        # but we're focusing on correctness rather than speed here\n",
    "    else\n",
    "        curyear = nextyear\n",
    "        P_dictionary[curyear] = [P_df.language[i+1]]\n",
    "    end\n",
    "end"
   ]
  },
  {
   "cell_type": "code",
   "execution_count": null,
   "metadata": {},
   "outputs": [],
   "source": [
    "length(keys(P_dictionary))"
   ]
  },
  {
   "cell_type": "code",
   "execution_count": null,
   "metadata": {},
   "outputs": [],
   "source": [
    "length(unique(P[:,1]))"
   ]
  },
  {
   "cell_type": "code",
   "execution_count": null,
   "metadata": {},
   "outputs": [],
   "source": [
    "# Q1: Which year was was a given language invented?\n",
    "# now instead of looking in one long vector, we will look in many small vectors\n",
    "function year_created(P_dictionary,language::String)\n",
    "    keys_vec = collect(keys(P_dictionary))\n",
    "    lookup = map(keyid -> findfirst(P_dictionary[keyid].==language),keys_vec)\n",
    "    # now the lookup vector has `nothing` or a numeric value. We want to find the index of the numeric value.\n",
    "    return keys_vec[findfirst((!isnothing).(lookup))]\n",
    "end\n",
    "year_created(P_dictionary,\"Julia\")"
   ]
  },
  {
   "cell_type": "code",
   "execution_count": null,
   "metadata": {},
   "outputs": [],
   "source": [
    "# Q2: How many languages were created in a given year?\n",
    "how_many_per_year(P_dictionary,year::Int64) = length(P_dictionary[year])\n",
    "how_many_per_year(P_dictionary,2011)"
   ]
  },
  {
   "attachments": {},
   "cell_type": "markdown",
   "metadata": {},
   "source": [
    "# 📝 A note about missing data"
   ]
  },
  {
   "cell_type": "code",
   "execution_count": null,
   "metadata": {},
   "outputs": [],
   "source": [
    "# assume there were missing values in our dataframe\n",
    "P[1,1] = missing\n",
    "P_df = DataFrame(year = P[:,1], language = P[:,2])"
   ]
  },
  {
   "cell_type": "code",
   "execution_count": null,
   "metadata": {},
   "outputs": [],
   "source": [
    "dropmissing(P_df)"
   ]
  },
  {
   "attachments": {},
   "cell_type": "markdown",
   "metadata": {},
   "source": [
    "# Finally...\n",
    "After finishing this notebook, you should be able to:\n",
    "- [ ] dowload a data file from the web given a url\n",
    "- [ ] load data from a file from a text file via DelimitedFiles or CSV\n",
    "- [ ] write your data to a text file or csv file\n",
    "- [ ] load data from file types xlsx, jld, npz, mat, rda\n",
    "- [ ] write your data to an xlsx file, jld, npz, mat, rda\n",
    "- [ ] store data in a 2D array (`Matrix`), or `DataFrame` or `Dict`\n",
    "- [ ] write functions to perform basic lookups on `Matrix`, `DataFrame`, and `Dict` types\n",
    "- [ ] use some of the basic functions on `DataFrame`s such as: `dropmissing`, `describe`, `combine(groupby)`, and `innerjoin`"
   ]
  },
  {
   "attachments": {},
   "cell_type": "markdown",
   "metadata": {},
   "source": [
    "# 🥳 One cool finding\n",
    "\n",
    "Julia was created in 2012"
   ]
  },
  {
   "cell_type": "code",
   "execution_count": 43,
   "metadata": {},
   "outputs": [
    {
     "name": "stdout",
     "output_type": "stream",
     "text": [
      "Matrix{"
     ]
    },
    {
     "name": "stdout",
     "output_type": "stream",
     "text": [
      "Any}\n",
      "Matrix{Any}\n"
     ]
    }
   ],
   "source": [
    "println(typeof(T))\n",
    "println(typeof(P))"
   ]
  },
  {
   "cell_type": "code",
   "execution_count": 55,
   "metadata": {},
   "outputs": [
    {
     "data": {
      "text/plain": [
       "Vector{Int64}\u001b[90m (alias for \u001b[39m\u001b[90mArray{Int64, 1}\u001b[39m\u001b[90m)\u001b[39m"
      ]
     },
     "metadata": {},
     "output_type": "display_data"
    }
   ],
   "source": [
    "typeof(P_df)\n",
    "typeof(P_df[1,:]) # row\n",
    "typeof(P_df[:,1]) # column"
   ]
  },
  {
   "cell_type": "code",
   "execution_count": 62,
   "metadata": {},
   "outputs": [],
   "source": [
    "\n"
   ]
  }
 ],
 "metadata": {
  "@webio": {
   "lastCommId": null,
   "lastKernelId": null
  },
  "kernelspec": {
   "display_name": "Julia 1.9.1",
   "language": "julia",
   "name": "julia-1.9"
  },
  "language_info": {
   "file_extension": ".jl",
   "mimetype": "application/julia",
   "name": "julia",
   "version": "1.9.1"
  }
 },
 "nbformat": 4,
 "nbformat_minor": 4
}
