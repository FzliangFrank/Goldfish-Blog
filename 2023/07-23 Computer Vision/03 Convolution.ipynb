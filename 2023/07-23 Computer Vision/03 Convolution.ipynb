{
 "cells": [
  {
   "cell_type": "markdown",
   "metadata": {},
   "source": [
    "Feature Extraction: \n",
    "\n",
    "- Filter: an image for a particular feature (convolution)\n",
    "- Detect: that feature within the filtered image (ReLU)\n",
    "- Condense: the image to enhance the features (maximum pooling)\n",
    "\n",
    "Stack a convolution layer such as following: \n",
    "```py\n",
    "from tensorflow import keras\n",
    "from tensorflow.keras import layers\n",
    "\n",
    "model = keras.Sequential([\n",
    "    layers.Conv2D(filters=64, kernel_size=3), # activation is None\n",
    "    # More layers follow\n",
    "])\n",
    "```\n",
    "\n",
    "A **kernel** is a convolution matrix of n layers\n"
   ]
  },
  {
   "cell_type": "code",
   "execution_count": null,
   "metadata": {},
   "outputs": [],
   "source": []
  }
 ],
 "metadata": {
  "language_info": {
   "name": "python"
  }
 },
 "nbformat": 4,
 "nbformat_minor": 2
}
