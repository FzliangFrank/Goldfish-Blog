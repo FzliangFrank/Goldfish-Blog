{
 "cells": [
  {
   "cell_type": "markdown",
   "metadata": {},
   "source": [
    "# First Ingestion Operation"
   ]
  },
  {
   "cell_type": "markdown",
   "metadata": {},
   "source": [
    "Use this github repo to update to lastest pdf file reading engine:"
   ]
  },
  {
   "cell_type": "code",
   "execution_count": null,
   "metadata": {},
   "outputs": [],
   "source": [
    "%pip install git+https://github.com/FzliangFrank/pdf_bank_statement.git"
   ]
  },
  {
   "cell_type": "markdown",
   "metadata": {},
   "source": [
    "Retrived data should looks like this:"
   ]
  },
  {
   "cell_type": "code",
   "execution_count": 1,
   "metadata": {},
   "outputs": [
    {
     "name": "stdout",
     "output_type": "stream",
     "text": [
      "┌───────┬─────────────────────┬──────────────────┬───┬───────────────┬─────────────┬───────────┬──────────────────────┐\n",
      "│  Id   │        Date         │   Description    │ … │ Money Out (£) │ Balance (£) │ Category  │       src_file       │\n",
      "│ int32 │    timestamp_ns     │     varchar      │   │    double     │   double    │  varchar  │       varchar        │\n",
      "├───────┼─────────────────────┼──────────────────┼───┼───────────────┼─────────────┼───────────┼──────────────────────┤\n",
      "│     1 │ 2023-10-02 00:00:00 │ STGCOACH/CTYLINK │ … │           2.0 │      5770.0 │ Transport │ /Users/frankliang/…  │\n",
      "│     2 │ 2023-10-02 00:00:00 │ PRET A MANGER    │ … │           5.0 │      5764.0 │ Cafe      │ /Users/frankliang/…  │\n",
      "│     3 │ 2023-10-02 00:00:00 │ STGCOACH/CTYLINK │ … │           2.0 │      5762.0 │ Transport │ /Users/frankliang/…  │\n",
      "├───────┴─────────────────────┴──────────────────┴───┴───────────────┴─────────────┴───────────┴──────────────────────┤\n",
      "│ 3 rows                                                                                          9 columns (7 shown) │\n",
      "└─────────────────────────────────────────────────────────────────────────────────────────────────────────────────────┘\n",
      "\n"
     ]
    }
   ],
   "source": [
    "import duckdb\n",
    "\n",
    "DB_PATH = '/Users/frankliang/Dropbox/Apps/DuckDb/personal.db'\n",
    "with duckdb.connect(DB_PATH) as con:\n",
    "    print(con.sql(\"SELECT * FROM my.bank_statement\").limit(3))"
   ]
  },
  {
   "cell_type": "markdown",
   "metadata": {},
   "source": [
    "### Incremental Update\n",
    "\n",
    "First check if there are any new files added to my directory since last time. \n",
    "So I think best way is to write a table of list file that has been ingested everytime we do something without analysing the whole data table. \n",
    "\n",
    "So everytime we scan the file, we just compare what has been ingested versus what has not being ingested. And the only the \"set difference\" gets ingested. "
   ]
  },
  {
   "cell_type": "markdown",
   "metadata": {},
   "source": [
    "### Ad Hoc Analytic\n",
    "Best practice is to just know what you want to know from this "
   ]
  },
  {
   "cell_type": "code",
   "execution_count": 5,
   "metadata": {},
   "outputs": [
    {
     "data": {
      "text/plain": [
       "┌──────────────────────┬────────────────────┬────────────────────────────────┬──────────┐\n",
       "│ Earliest Transaction │ Latest Transaction │ Avg £ Out Per Month (Net Rent) │ Avg £ In │\n",
       "│         date         │        date        │             double             │  double  │\n",
       "├──────────────────────┼────────────────────┼────────────────────────────────┼──────────┤\n",
       "│ 2023-01-03           │ 2023-11-30         │                         2312.7 │   2786.7 │\n",
       "└──────────────────────┴────────────────────┴────────────────────────────────┴──────────┘"
      ]
     },
     "execution_count": 5,
     "metadata": {},
     "output_type": "execute_result"
    }
   ],
   "source": [
    "con = duckdb.connect(DB_PATH, read_only=True)\n",
    "bs = con.sql('SELECT * FROM my.bank_statement')\n",
    "bs.aggregate('''\n",
    "             min(Date)::datetime::date as \"Earliest Transaction\", \n",
    "             max(Date)::datetime::date as \"Latest Transaction\",\n",
    "             sum(\"Money out (£)\") FILTER (WHERE Category != 'Rent & Essential')\n",
    "                / datediff('month', min(Date), max(Date))\n",
    "                as \"Avg £ Out Per Month (Net Rent)\",\n",
    "             sum(\"Money in (£)\")\n",
    "                / datediff('month', min(Date), max(Date))\n",
    "                as \"Avg £ In\",\n",
    "             ''') # now the problem here is aggregate method in duckdb is different to ibis"
   ]
  },
  {
   "cell_type": "code",
   "execution_count": 87,
   "metadata": {},
   "outputs": [
    {
     "name": "stdout",
     "output_type": "stream",
     "text": [
      "┌────────────┐\n",
      "│  since_d   │\n",
      "│    date    │\n",
      "├────────────┤\n",
      "│ 2023-11-01 │\n",
      "└────────────┘\n",
      "\n"
     ]
    },
    {
     "data": {
      "text/plain": [
       "┌──────────────────┬─────────┬───────────┬─────────────────┐\n",
       "│     Category     │  Total  │ Per Month │ Per Month Since │\n",
       "│     varchar      │ double  │  double   │     double      │\n",
       "├──────────────────┼─────────┼───────────┼─────────────────┤\n",
       "│ Cloth & Shopping │  2453.0 │    272.56 │            51.0 │\n",
       "│ Rent & Essential │  5156.0 │     515.6 │          1177.0 │\n",
       "│ Transport        │   593.0 │      59.3 │            41.0 │\n",
       "│ Subscri & Apple  │  4306.0 │     430.6 │            81.0 │\n",
       "│ Food & Grocery   │  2533.0 │     253.3 │           221.0 │\n",
       "│ Cafe             │   917.0 │    101.89 │            38.0 │\n",
       "│ Other            │ 12325.0 │    1232.5 │          2302.0 │\n",
       "└──────────────────┴─────────┴───────────┴─────────────────┘"
      ]
     },
     "execution_count": 87,
     "metadata": {},
     "output_type": "execute_result"
    }
   ],
   "source": [
    "since_date = con.sql(\"select time_bucket(interval '2 months', today() - interval 1 month) as since_d\")\n",
    "\n",
    "print(since_date)\n",
    "(\n",
    "    con.sql(\"select * from my.bank_statement\")\n",
    "    .aggregate('''\n",
    "               Category, \n",
    "               sum(\"Money Out (£)\") Total,\n",
    "               round(sum(\"Money Out (£)\") \n",
    "                / datediff('Month',min(Date), max(Date)), 2)\n",
    "                as \"Per Month\",\n",
    "               sum(\"Money Out (£)\")\n",
    "                FILTER(WHERE Date::datetime::date >= (select since_d from since_date))\n",
    "                as \"Per Month Since\"\n",
    "               ''',\n",
    "               \"Category\"\n",
    "               )\n",
    ")"
   ]
  },
  {
   "cell_type": "markdown",
   "metadata": {},
   "source": [
    "## Setup"
   ]
  },
  {
   "cell_type": "markdown",
   "metadata": {},
   "source": [
    "### Bulk read All Files\n",
    "Read all pdf files stored in `BANK_STATMENT` on a drop box and re-analyse them"
   ]
  },
  {
   "cell_type": "code",
   "execution_count": 2,
   "metadata": {},
   "outputs": [
    {
     "name": "stdout",
     "output_type": "stream",
     "text": [
      "Read... Total 1 tables populated.\n",
      "Read... Total 2 tables populated.\n",
      "Read... Total 3 tables populated.\n",
      "Read... Total 4 tables populated.\n",
      "Read... Total 5 tables populated.\n",
      "Read... Total 6 tables populated.\n",
      "Read... Total 7 tables populated.\n",
      "Read... Total 8 tables populated.\n",
      "Read... Total 9 tables populated.\n",
      "Read... Total 10 tables populated.\n",
      "Read... Total 11 tables populated.\n",
      "cleaning complete.\n"
     ]
    }
   ],
   "source": [
    "# bulk read (only do this)\n",
    "import os\n",
    "import pdf_bank_statement.analyser as analyser\n",
    "import pdf_bank_statement.reader as reader\n",
    "\n",
    "BANK_STATEMENT = \"/Users/frankliang/Dropbox/Apps/Bank-Statement-Reader/BANK_STATEMENT\"\n",
    "all_files = os.listdir(BANK_STATEMENT)\n",
    "\n",
    "all_statement=[*map(lambda x: BANK_STATEMENT + '/' + x, all_files)]\n",
    "\n",
    "\n",
    "df = reader.read(all_statement)\n",
    "analysed=analyser.analyse(df) # categorise mainly"
   ]
  },
  {
   "cell_type": "markdown",
   "metadata": {},
   "source": [
    "### First Time Bluk Create a Table\n",
    "\n",
    "Never run this script after everything has been set up. Because we will \n",
    "use reference number id to store which transaction are marked as varible, \n",
    "which one are none variable.\n",
    "\n",
    "\n",
    "**Concerns For Multiple Bank Account**\n",
    "\n",
    "Before we do so we must consider for point where we may actually open different bank statement or we end up unable to tell which account is which...\n",
    "\n",
    "So it maybe worth creating a foregin key on a column. Add additional table here [Reference](https://www.devart.com/dbforge/sql/studio/add-column-to-table-sql-server.html#:~:text=The%20basic%20syntax%20of%20the,to%20add%20a%20new%20column.) "
   ]
  },
  {
   "cell_type": "code",
   "execution_count": 3,
   "metadata": {},
   "outputs": [
    {
     "data": {
      "text/plain": [
       "┌─────────────────────┬────────────────────┬─────────┬───┬─────────────┬────────────────┬──────────────────────┐\n",
       "│        Date         │    Description     │  Type   │ … │ Balance (£) │    Category    │       src_file       │\n",
       "│    timestamp_ns     │      varchar       │ varchar │   │   double    │    varchar     │       varchar        │\n",
       "├─────────────────────┼────────────────────┼─────────┼───┼─────────────┼────────────────┼──────────────────────┤\n",
       "│ 2023-01-19 00:00:00 │ CO-OP GROUP 070527 │ DEB     │ … │      2597.0 │ Food & Grocery │ /Users/frankliang/…  │\n",
       "│ 2023-02-28 00:00:00 │ TESCO STORES 2487  │ DEB     │ … │      4642.0 │ Food & Grocery │ /Users/frankliang/…  │\n",
       "│ 2023-10-02 00:00:00 │ Zettle_*Sundays    │ DEB     │ … │      5663.0 │ Other          │ /Users/frankliang/…  │\n",
       "├─────────────────────┴────────────────────┴─────────┴───┴─────────────┴────────────────┴──────────────────────┤\n",
       "│ 3 rows                                                                                   8 columns (6 shown) │\n",
       "└──────────────────────────────────────────────────────────────────────────────────────────────────────────────┘"
      ]
     },
     "execution_count": 3,
     "metadata": {},
     "output_type": "execute_result"
    }
   ],
   "source": [
    "import duckdb\n",
    "im_con = duckdb.connect()\n",
    "analysed_data = analysed.data\n",
    "analysed_data.sample(3)\n",
    "duckdb.from_df(analysed_data.iloc[:,0:8].sample(3))"
   ]
  },
  {
   "cell_type": "code",
   "execution_count": null,
   "metadata": {},
   "outputs": [],
   "source": [
    "import duckdb\n",
    "\n",
    "DB_PATH = '/Users/frankliang/Dropbox/Apps/DuckDb/personal.db'\n",
    "with duckdb.connect(DB_PATH) as con:\n",
    "    try:\n",
    "        con.sql('''\n",
    "                DROP TABLE my.bank_statement;\n",
    "                DROP SEQUENCE seq_bank_statement;\n",
    "                ''')\n",
    "        print(\"Table droped\")\n",
    "    except:\n",
    "       pass\n",
    "    finally:\n",
    "        print(\"Creating new table\")\n",
    "        con.sql('''\n",
    "                CREATE SCHEMA IF NOT EXISTS my;\n",
    "                CREATE SEQUENCE IF NOT EXISTS seq_bank_statement START 1;\n",
    "                CREATE TABLE my.bank_statement (\n",
    "                    Id INTEGER PRIMARY KEY,\n",
    "                    Date timestamp_ns,\n",
    "                    Description VARCHAR,\n",
    "                    Type VARCHAR(3),\n",
    "                    \"Money In (£)\" DOUBLE,\n",
    "                    \"Money Out (£)\" DOUBLE,\n",
    "                    \"Balance (£)\" DOUBLE,\n",
    "                    \"Category\" VARCHAR(32),\n",
    "                    src_file VARCHAR(100)\n",
    "                );\n",
    "                INSERT INTO my.bank_statement\n",
    "                SELECT nextval('seq_bank_statement'),* \n",
    "                FROM analysed_data\n",
    "        ''')\n",
    "        print(\"Sampled Data Looks Like this\")\n",
    "        print(con.sql(\"Select * from my.bank_statement order by random() limit 3\"))\n",
    "\n",
    "    "
   ]
  }
 ],
 "metadata": {
  "kernelspec": {
   "display_name": "Python 3",
   "language": "python",
   "name": "python3"
  },
  "language_info": {
   "codemirror_mode": {
    "name": "ipython",
    "version": 3
   },
   "file_extension": ".py",
   "mimetype": "text/x-python",
   "name": "python",
   "nbconvert_exporter": "python",
   "pygments_lexer": "ipython3",
   "version": "3.11.2"
  }
 },
 "nbformat": 4,
 "nbformat_minor": 2
}
