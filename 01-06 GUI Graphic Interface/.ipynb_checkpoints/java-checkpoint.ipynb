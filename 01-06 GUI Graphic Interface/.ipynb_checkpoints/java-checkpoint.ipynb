{
 "cells": [
  {
   "cell_type": "code",
   "execution_count": 1,
   "metadata": {},
   "outputs": [
    {
     "data": {
      "application/javascript": [
       "alert(\"hello, world!\");\n"
      ],
      "text/plain": [
       "<IPython.core.display.Javascript object>"
      ]
     },
     "metadata": {},
     "output_type": "display_data"
    }
   ],
   "source": [
    "%%js\n",
    "alert(\"hello, world!\");"
   ]
  },
  {
   "cell_type": "code",
   "execution_count": 2,
   "metadata": {},
   "outputs": [
    {
     "ename": "NameError",
     "evalue": "name 'Javascript' is not defined",
     "output_type": "error",
     "traceback": [
      "\u001b[0;31m---------------------------------------------------------------------------\u001b[0m",
      "\u001b[0;31mNameError\u001b[0m                                 Traceback (most recent call last)",
      "Cell \u001b[0;32mIn[2], line 8\u001b[0m\n\u001b[1;32m      1\u001b[0m js\u001b[38;5;241m=\u001b[39m\u001b[38;5;124m\"\"\"\u001b[39m\n\u001b[1;32m      2\u001b[0m \u001b[38;5;124mvar x = 5;\u001b[39m\n\u001b[1;32m      3\u001b[0m \u001b[38;5;124mvar y = 6;\u001b[39m\n\u001b[1;32m      4\u001b[0m \u001b[38;5;124mvar z = x + y;\u001b[39m\n\u001b[1;32m      5\u001b[0m \u001b[38;5;124melement.text(z)\u001b[39m\n\u001b[1;32m      6\u001b[0m \u001b[38;5;124m\"\"\"\u001b[39m\n\u001b[0;32m----> 8\u001b[0m jsvar\u001b[38;5;241m=\u001b[39m\u001b[43mJavascript\u001b[49m(js)\n\u001b[1;32m     10\u001b[0m display(jsvar)\n",
      "\u001b[0;31mNameError\u001b[0m: name 'Javascript' is not defined"
     ]
    }
   ],
   "source": [
    "from javascript import Javascript\n",
    "\n",
    "js=\"\"\"\n",
    "var x = 5;\n",
    "var y = 6;\n",
    "var z = x + y;\n",
    "element.text(z)\n",
    "\"\"\"\n",
    "\n",
    "jsvar=Javascript(js)\n",
    "\n",
    "display(jsvar)"
   ]
  }
 ],
 "metadata": {
  "kernelspec": {
   "display_name": "Python 3 (ipykernel)",
   "language": "python",
   "name": "python3"
  },
  "language_info": {
   "codemirror_mode": {
    "name": "ipython",
    "version": 3
   },
   "file_extension": ".py",
   "mimetype": "text/x-python",
   "name": "python",
   "nbconvert_exporter": "python",
   "pygments_lexer": "ipython3",
   "version": "3.10.10"
  }
 },
 "nbformat": 4,
 "nbformat_minor": 2
}
