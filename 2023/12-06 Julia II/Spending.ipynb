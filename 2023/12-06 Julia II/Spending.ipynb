{
 "cells": [
  {
   "cell_type": "code",
   "execution_count": null,
   "metadata": {},
   "outputs": [],
   "source": [
    "using Pkg\n",
    "# Pkg.add(\"DataFramesMeta\")\n",
    "Pkg.add(\"TidierData\")"
   ]
  },
  {
   "cell_type": "code",
   "execution_count": 1,
   "metadata": {},
   "outputs": [],
   "source": [
    "using DataFrames,CSV,DataFramesMeta\n",
    "# using TidierData:select\n",
    "# using TidierData:@select\n",
    "# using TidierData\n",
    "#Pkg.rm([\"Parquet\",\"Parquet2\",\"ParquetFiles\"])"
   ]
  },
  {
   "cell_type": "code",
   "execution_count": 330,
   "metadata": {},
   "outputs": [
    {
     "name": "stdout",
     "output_type": "stream",
     "text": [
      "Find All my spending related with 🍺🍺\n"
     ]
    },
    {
     "data": {
      "text/html": [
       "<div><div style = \"float: left;\"><span>12×6 DataFrame</span></div><div style = \"clear: both;\"></div></div><div class = \"data-frame\" style = \"overflow-x: scroll;\"><table class = \"data-frame\" style = \"margin-bottom: 6px;\"><thead><tr class = \"header\"><th class = \"rowNumber\" style = \"font-weight: bold; text-align: right;\">Row</th><th style = \"text-align: left;\">Date</th><th style = \"text-align: left;\">Description</th><th style = \"text-align: left;\">Type</th><th style = \"text-align: left;\">Money In (£)</th><th style = \"text-align: left;\">Money Out (£)</th><th style = \"text-align: left;\">Balance (£)</th></tr><tr class = \"subheader headerLastRow\"><th class = \"rowNumber\" style = \"font-weight: bold; text-align: right;\"></th><th title = \"String15\" style = \"text-align: left;\">String15</th><th title = \"String31\" style = \"text-align: left;\">String31</th><th title = \"String3\" style = \"text-align: left;\">String3</th><th title = \"String7\" style = \"text-align: left;\">String7</th><th title = \"String7\" style = \"text-align: left;\">String7</th><th title = \"String7\" style = \"text-align: left;\">String7</th></tr></thead><tbody><tr><td class = \"rowNumber\" style = \"font-weight: bold; text-align: right;\">1</td><td style = \"text-align: left;\">02 Oct 23</td><td style = \"text-align: left;\">Turk&apos;s Head</td><td style = \"text-align: left;\">DEB</td><td style = \"text-align: left;\">blank</td><td style = \"text-align: left;\">12</td><td style = \"text-align: left;\">5,741</td></tr><tr><td class = \"rowNumber\" style = \"font-weight: bold; text-align: right;\">2</td><td style = \"text-align: left;\">30 Oct 23</td><td style = \"text-align: left;\">Zettle_*Topsham Br</td><td style = \"text-align: left;\">DEB</td><td style = \"text-align: left;\">blank</td><td style = \"text-align: left;\">5</td><td style = \"text-align: left;\">3,229</td></tr><tr><td class = \"rowNumber\" style = \"font-weight: bold; text-align: right;\">3</td><td style = \"text-align: left;\">30 Oct 23</td><td style = \"text-align: left;\">Zettle_*Topsham Br</td><td style = \"text-align: left;\">DEB</td><td style = \"text-align: left;\">blank</td><td style = \"text-align: left;\">5</td><td style = \"text-align: left;\">3,224</td></tr><tr><td class = \"rowNumber\" style = \"font-weight: bold; text-align: right;\">4</td><td style = \"text-align: left;\">30 Oct 23</td><td style = \"text-align: left;\">Zettle_*Topsham Br</td><td style = \"text-align: left;\">DEB</td><td style = \"text-align: left;\">blank</td><td style = \"text-align: left;\">4</td><td style = \"text-align: left;\">3,194</td></tr><tr><td class = \"rowNumber\" style = \"font-weight: bold; text-align: right;\">5</td><td style = \"text-align: left;\">06 Nov 23</td><td style = \"text-align: left;\">Turk&apos;s Head</td><td style = \"text-align: left;\">DEB</td><td style = \"text-align: left;\">blank</td><td style = \"text-align: left;\">6</td><td style = \"text-align: left;\">4,677</td></tr><tr><td class = \"rowNumber\" style = \"font-weight: bold; text-align: right;\">6</td><td style = \"text-align: left;\">07 Aug 23</td><td style = \"text-align: left;\">Turk&apos;s Head</td><td style = \"text-align: left;\">DEB</td><td style = \"text-align: left;\">blank</td><td style = \"text-align: left;\">5</td><td style = \"text-align: left;\">4,226</td></tr><tr><td class = \"rowNumber\" style = \"font-weight: bold; text-align: right;\">7</td><td style = \"text-align: left;\">07 Aug 23</td><td style = \"text-align: left;\">Turk&apos;s Head</td><td style = \"text-align: left;\">DEB</td><td style = \"text-align: left;\">blank</td><td style = \"text-align: left;\">10</td><td style = \"text-align: left;\">4,206</td></tr><tr><td class = \"rowNumber\" style = \"font-weight: bold; text-align: right;\">8</td><td style = \"text-align: left;\">09 Aug 23</td><td style = \"text-align: left;\">Turk&apos;s Head</td><td style = \"text-align: left;\">DEB</td><td style = \"text-align: left;\">blank</td><td style = \"text-align: left;\">2</td><td style = \"text-align: left;\">4,161</td></tr><tr><td class = \"rowNumber\" style = \"font-weight: bold; text-align: right;\">9</td><td style = \"text-align: left;\">16 Aug 23</td><td style = \"text-align: left;\">Turk&apos;s Head</td><td style = \"text-align: left;\">DEB</td><td style = \"text-align: left;\">blank</td><td style = \"text-align: left;\">5</td><td style = \"text-align: left;\">3,951</td></tr><tr><td class = \"rowNumber\" style = \"font-weight: bold; text-align: right;\">10</td><td style = \"text-align: left;\">21 Aug 23</td><td style = \"text-align: left;\">Zettle_*Topsham Br</td><td style = \"text-align: left;\">DEB</td><td style = \"text-align: left;\">blank</td><td style = \"text-align: left;\">5</td><td style = \"text-align: left;\">3,845</td></tr><tr><td class = \"rowNumber\" style = \"font-weight: bold; text-align: right;\">11</td><td style = \"text-align: left;\">18 Sep 23</td><td style = \"text-align: left;\">Zettle_*Topsham Br</td><td style = \"text-align: left;\">DEB</td><td style = \"text-align: left;\">blank</td><td style = \"text-align: left;\">5</td><td style = \"text-align: left;\">2,734</td></tr><tr><td class = \"rowNumber\" style = \"font-weight: bold; text-align: right;\">12</td><td style = \"text-align: left;\">18 Sep 23</td><td style = \"text-align: left;\">Zettle_*Topsham Br</td><td style = \"text-align: left;\">DEB</td><td style = \"text-align: left;\">blank</td><td style = \"text-align: left;\">5</td><td style = \"text-align: left;\">2,729</td></tr></tbody></table></div>"
      ],
      "text/latex": [
       "\\begin{tabular}{r|cccccc}\n",
       "\t& Date & Description & Type & Money In (£) & Money Out (£) & Balance (£)\\\\\n",
       "\t\\hline\n",
       "\t& String15 & String31 & String3 & String7 & String7 & String7\\\\\n",
       "\t\\hline\n",
       "\t1 & 02 Oct 23 & Turk's Head & DEB & blank & 12 & 5,741 \\\\\n",
       "\t2 & 30 Oct 23 & Zettle\\_*Topsham Br & DEB & blank & 5 & 3,229 \\\\\n",
       "\t3 & 30 Oct 23 & Zettle\\_*Topsham Br & DEB & blank & 5 & 3,224 \\\\\n",
       "\t4 & 30 Oct 23 & Zettle\\_*Topsham Br & DEB & blank & 4 & 3,194 \\\\\n",
       "\t5 & 06 Nov 23 & Turk's Head & DEB & blank & 6 & 4,677 \\\\\n",
       "\t6 & 07 Aug 23 & Turk's Head & DEB & blank & 5 & 4,226 \\\\\n",
       "\t7 & 07 Aug 23 & Turk's Head & DEB & blank & 10 & 4,206 \\\\\n",
       "\t8 & 09 Aug 23 & Turk's Head & DEB & blank & 2 & 4,161 \\\\\n",
       "\t9 & 16 Aug 23 & Turk's Head & DEB & blank & 5 & 3,951 \\\\\n",
       "\t10 & 21 Aug 23 & Zettle\\_*Topsham Br & DEB & blank & 5 & 3,845 \\\\\n",
       "\t11 & 18 Sep 23 & Zettle\\_*Topsham Br & DEB & blank & 5 & 2,734 \\\\\n",
       "\t12 & 18 Sep 23 & Zettle\\_*Topsham Br & DEB & blank & 5 & 2,729 \\\\\n",
       "\\end{tabular}\n"
      ],
      "text/plain": [
       "\u001b[1m12×6 DataFrame\u001b[0m\n",
       "\u001b[1m Row \u001b[0m│\u001b[1m Date      \u001b[0m\u001b[1m Description        \u001b[0m\u001b[1m Type    \u001b[0m\u001b[1m Money In (£) \u001b[0m\u001b[1m Money Out (£) \u001b[0m\u001b[1m Ba\u001b[0m ⋯\n",
       "     │\u001b[90m String15  \u001b[0m\u001b[90m String31           \u001b[0m\u001b[90m String3 \u001b[0m\u001b[90m String7      \u001b[0m\u001b[90m String7       \u001b[0m\u001b[90m St\u001b[0m ⋯\n",
       "─────┼──────────────────────────────────────────────────────────────────────────\n",
       "   1 │ 02 Oct 23  Turk's Head         DEB      blank         12             5, ⋯\n",
       "   2 │ 30 Oct 23  Zettle_*Topsham Br  DEB      blank         5              3,\n",
       "   3 │ 30 Oct 23  Zettle_*Topsham Br  DEB      blank         5              3,\n",
       "   4 │ 30 Oct 23  Zettle_*Topsham Br  DEB      blank         4              3,\n",
       "   5 │ 06 Nov 23  Turk's Head         DEB      blank         6              4, ⋯\n",
       "   6 │ 07 Aug 23  Turk's Head         DEB      blank         5              4,\n",
       "   7 │ 07 Aug 23  Turk's Head         DEB      blank         10             4,\n",
       "   8 │ 09 Aug 23  Turk's Head         DEB      blank         2              4,\n",
       "   9 │ 16 Aug 23  Turk's Head         DEB      blank         5              3, ⋯\n",
       "  10 │ 21 Aug 23  Zettle_*Topsham Br  DEB      blank         5              3,\n",
       "  11 │ 18 Sep 23  Zettle_*Topsham Br  DEB      blank         5              2,\n",
       "  12 │ 18 Sep 23  Zettle_*Topsham Br  DEB      blank         5              2,\n",
       "\u001b[36m                                                                1 column omitted\u001b[0m"
      ]
     },
     "metadata": {},
     "output_type": "display_data"
    }
   ],
   "source": [
    "my_statement = CSV.read(\"banks-data.csv\", DataFrame)\n",
    "my_statement\n",
    "# slice_filter(Description::String) Description == \"Turk's Head\"\n",
    "println(\"Find All my spending related with 🍺🍺\")\n",
    "filter(:Description => n -> n == \"Turk's Head\", my_statement)\n",
    "filter(:Description => x -> occursin(r\"Turk's Head|Topsham\", x), my_statement)"
   ]
  },
  {
   "cell_type": "code",
   "execution_count": 8,
   "metadata": {},
   "outputs": [
    {
     "data": {
      "text/html": [
       "<div><div style = \"float: left;\"><span>3×1 DataFrame</span></div><div style = \"clear: both;\"></div></div><div class = \"data-frame\" style = \"overflow-x: scroll;\"><table class = \"data-frame\" style = \"margin-bottom: 6px;\"><thead><tr class = \"header\"><th class = \"rowNumber\" style = \"font-weight: bold; text-align: right;\">Row</th><th style = \"text-align: left;\">Date</th></tr><tr class = \"subheader headerLastRow\"><th class = \"rowNumber\" style = \"font-weight: bold; text-align: right;\"></th><th title = \"String15\" style = \"text-align: left;\">String15</th></tr></thead><tbody><tr><td class = \"rowNumber\" style = \"font-weight: bold; text-align: right;\">1</td><td style = \"text-align: left;\">13 Nov 23</td></tr><tr><td class = \"rowNumber\" style = \"font-weight: bold; text-align: right;\">2</td><td style = \"text-align: left;\">01 Nov 23</td></tr><tr><td class = \"rowNumber\" style = \"font-weight: bold; text-align: right;\">3</td><td style = \"text-align: left;\">12 Jun 23</td></tr></tbody></table></div>"
      ],
      "text/latex": [
       "\\begin{tabular}{r|c}\n",
       "\t& Date\\\\\n",
       "\t\\hline\n",
       "\t& String15\\\\\n",
       "\t\\hline\n",
       "\t1 & 13 Nov 23 \\\\\n",
       "\t2 & 01 Nov 23 \\\\\n",
       "\t3 & 12 Jun 23 \\\\\n",
       "\\end{tabular}\n"
      ],
      "text/plain": [
       "\u001b[1m3×1 DataFrame\u001b[0m\n",
       "\u001b[1m Row \u001b[0m│\u001b[1m Date      \u001b[0m\n",
       "     │\u001b[90m String15  \u001b[0m\n",
       "─────┼───────────\n",
       "   1 │ 13 Nov 23\n",
       "   2 │ 01 Nov 23\n",
       "   3 │ 12 Jun 23"
      ]
     },
     "metadata": {},
     "output_type": "display_data"
    }
   ],
   "source": [
    "# @select my_statement :Description :\"Money In (£)\"\n",
    "@chain my_statement begin\n",
    "    @select begin\n",
    "        :Description \n",
    "        :Date\n",
    "    end\n",
    "    @slice_sample(n=3)\n",
    "end"
   ]
  },
  {
   "cell_type": "markdown",
   "metadata": {},
   "source": [
    "### Perform Type Casting"
   ]
  },
  {
   "cell_type": "code",
   "execution_count": 15,
   "metadata": {},
   "outputs": [
    {
     "ename": "MethodError",
     "evalue": "MethodError: no method matching parse(::Type{String}, ::String)\n\nClosest candidates are:\n  parse(!Matched::Type{P}, ::AbstractString; kwargs...) where P<:FilePathsBase.AbstractPath\n   @ FilePathsBase ~/.julia/packages/FilePathsBase/4RrDh/src/path.jl:77\n  parse(!Matched::Type{Rational{T}}, ::AbstractString) where T<:Integer\n   @ Base rational.jl:98\n  parse(!Matched::Type{T}, ::AbstractString) where T<:Complex\n   @ Base parse.jl:386\n  ...\n",
     "output_type": "error",
     "traceback": [
      "MethodError: no method matching parse(::Type{String}, ::String)\n",
      "\n",
      "Closest candidates are:\n",
      "  parse(!Matched::Type{P}, ::AbstractString; kwargs...) where P<:FilePathsBase.AbstractPath\n",
      "   @ FilePathsBase ~/.julia/packages/FilePathsBase/4RrDh/src/path.jl:77\n",
      "  parse(!Matched::Type{Rational{T}}, ::AbstractString) where T<:Integer\n",
      "   @ Base rational.jl:98\n",
      "  parse(!Matched::Type{T}, ::AbstractString) where T<:Complex\n",
      "   @ Base parse.jl:386\n",
      "  ...\n",
      "\n",
      "\n",
      "Stacktrace:\n",
      " [1] replace_blank(var::String)\n",
      "   @ Main ~/Dropbox/Personal/code/Pet Project/12-06 Julia II/Spending.ipynb:2\n",
      " [2] top-level scope\n",
      "   @ ~/Dropbox/Personal/code/Pet Project/12-06 Julia II/Spending.ipynb:9"
     ]
    }
   ],
   "source": [
    "function replace_blank(var)::Float64\n",
    "    var = parse(String, var)\n",
    "    var = replace(var, r\"\\,|blank\" => \"\")\n",
    "    var = replace(var, r\"^$\" => \"0\")\n",
    "    var = parse(Float64, var)\n",
    "    return var\n",
    "end\n",
    "\n",
    "@assert replace_blank(\"12,323\") == 12_323\n",
    "@assert typeof(replace_blank(\"12,323\")) == Float64\n",
    "@assert map(replace_blank,[\"12,323\", \"212\"]::Vector{String}) == [12_323, 212]\n",
    "try\n",
    "    @assert begin \n",
    "        map(replace_blank,[\"12,323\", \"212\"]::Vector{String7}) == [12_323, 212]\n",
    "        replace_blank(\"12,323\"::String7) == 12_323\n",
    "    end\n",
    "catch e\n",
    "    println(\"This function don't like Vector{String7}\\n, $e\")\n",
    "end\n",
    "# replace_blank(my_statement[1,:\"Money Out (£)\"])"
   ]
  },
  {
   "cell_type": "code",
   "execution_count": 12,
   "metadata": {},
   "outputs": [
    {
     "ename": "UndefVarError",
     "evalue": "UndefVarError: `Date` not defined",
     "output_type": "error",
     "traceback": [
      "UndefVarError: `Date` not defined\n",
      "\n",
      "Stacktrace:\n",
      " [1] top-level scope\n",
      "   @ ~/Dropbox/Personal/code/Pet Project/12-06 Julia II/Spending.ipynb:10"
     ]
    }
   ],
   "source": [
    "\n",
    "# using Dates\n",
    "# function replace_blank(var::String)::Float64\n",
    "#     var = replace(var, r\"\\,|blank\" => \"\")\n",
    "#     var = replace(var, r\"^$\" => \"0\"::String)\n",
    "#     var = parse(Float64, var)\n",
    "#     return var\n",
    "# end\n",
    "\n",
    "statement_schema = Dict(\n",
    "    \"Date\" => (Date, x -> Date(x, \"dd u yy\") + Dates.Year(2000)),\n",
    "    \"Money Out (£)\" => (Float64, replace_blank::Function),\n",
    "    \"Money In (£)\" => (Float64, replace_blank::Function),\n",
    "    \"Balance (£)\" => (Float64, replace_blank::Function)\n",
    ")\n",
    "\n",
    "for (col, (expected_type, transformation_fun)) in statement_schema\n",
    "    actual_type=eltype(my_statement[:,col])\n",
    "    # @assert callable(transformation_fun)\n",
    "    if actual_type != expected_type\n",
    "        my_statement[:,col] = map(x -> transformation_fun(x), my_statement[:,col])\n",
    "    else \n",
    "        println(\"No need to cast $col to type $expected_type\")\n",
    "    end\n",
    "end\n",
    "# test=[]::Vector{Any}\n",
    "\n",
    "# for (colName; expect_type, fun) in statement_schema \n",
    "#     actual_type=eltype(my_statement[:,colName])\n",
    "#     # test = [test;actual_type==expect_type]\n",
    "#     # if actual_type==expect_type\n",
    "        \n",
    "# end\n",
    "# test"
   ]
  },
  {
   "cell_type": "code",
   "execution_count": 327,
   "metadata": {},
   "outputs": [
    {
     "name": "stdout",
     "output_type": "stream",
     "text": [
      "Possible already performed type casting\n",
      "MethodError("
     ]
    },
    {
     "name": "stdout",
     "output_type": "stream",
     "text": [
      "similar, (2.0, Any), 0x00000000000084b1)\n"
     ]
    }
   ],
   "source": [
    "\n",
    "# Type Casting using function and `rtransform`\n",
    "using Dates\n",
    "function replace_blank(var)::Float64\n",
    "    var = replace(var, r\"\\,|blank\" => \"\")\n",
    "    var = replace(var, r\"^$\" => \"0\")\n",
    "    var = parse(Float64, var)\n",
    "    return var\n",
    "end\n",
    "\n",
    "try\n",
    "    # run this only once\n",
    "    @chain my_statement begin\n",
    "            @rtransform! begin\n",
    "                :Date = Date(:Date, \"dd u yy\") + Dates.Year(2000)\n",
    "                :\"Money Out (£)\" = replace_blank(:\"Money Out (£)\")\n",
    "                :\"Money In (£)\" = replace_blank(:\"Money In (£)\")\n",
    "                :\"Balance (£)\" = replace_blank(:\"Balance (£)\")  \n",
    "            end\n",
    "    end\n",
    "    println(\"Changes Made\")\n",
    "catch e \n",
    "    println(\"Possible already performed type casting\")\n",
    "    println(e)\n",
    "end"
   ]
  },
  {
   "cell_type": "markdown",
   "metadata": {},
   "source": [
    "my_statement"
   ]
  },
  {
   "cell_type": "code",
   "execution_count": 13,
   "metadata": {},
   "outputs": [
    {
     "ename": "UndefVarError",
     "evalue": "UndefVarError: `my_statement` not defined",
     "output_type": "error",
     "traceback": [
      "UndefVarError: `my_statement` not defined\n"
     ]
    }
   ],
   "source": [
    "using DataFramesMeta\n",
    "my_statement\n"
   ]
  },
  {
   "cell_type": "markdown",
   "metadata": {},
   "source": [
    "### Tidy Verse Framework "
   ]
  },
  {
   "cell_type": "code",
   "execution_count": 368,
   "metadata": {},
   "outputs": [
    {
     "data": {
      "text/html": [
       "<div><div style = \"float: left;\"><span>869×6 DataFrame</span></div><div style = \"float: right;\"><span style = \"font-style: italic;\">844 rows omitted</span></div><div style = \"clear: both;\"></div></div><div class = \"data-frame\" style = \"overflow-x: scroll;\"><table class = \"data-frame\" style = \"margin-bottom: 6px;\"><thead><tr class = \"header\"><th class = \"rowNumber\" style = \"font-weight: bold; text-align: right;\">Row</th><th style = \"text-align: left;\">Date</th><th style = \"text-align: left;\">Description</th><th style = \"text-align: left;\">Type</th><th style = \"text-align: left;\">Money In (£)</th><th style = \"text-align: left;\">Money Out (£)</th><th style = \"text-align: left;\">Balance (£)</th></tr><tr class = \"subheader headerLastRow\"><th class = \"rowNumber\" style = \"font-weight: bold; text-align: right;\"></th><th title = \"String15\" style = \"text-align: left;\">String15</th><th title = \"String31\" style = \"text-align: left;\">String31</th><th title = \"String3\" style = \"text-align: left;\">String3</th><th title = \"String\" style = \"text-align: left;\">String</th><th title = \"String\" style = \"text-align: left;\">String</th><th title = \"String\" style = \"text-align: left;\">String</th></tr></thead><tbody><tr><td class = \"rowNumber\" style = \"font-weight: bold; text-align: right;\">1</td><td style = \"text-align: left;\">02 Oct 23</td><td style = \"text-align: left;\">STGCOACH/CTYLINK</td><td style = \"text-align: left;\">DEB</td><td style = \"text-align: left;\"></td><td style = \"text-align: left;\">2</td><td style = \"text-align: left;\">5770</td></tr><tr><td class = \"rowNumber\" style = \"font-weight: bold; text-align: right;\">2</td><td style = \"text-align: left;\">02 Oct 23</td><td style = \"text-align: left;\">PRET A MANGER</td><td style = \"text-align: left;\">DEB</td><td style = \"text-align: left;\"></td><td style = \"text-align: left;\">5</td><td style = \"text-align: left;\">5764</td></tr><tr><td class = \"rowNumber\" style = \"font-weight: bold; text-align: right;\">3</td><td style = \"text-align: left;\">02 Oct 23</td><td style = \"text-align: left;\">STGCOACH/CTYLINK</td><td style = \"text-align: left;\">DEB</td><td style = \"text-align: left;\"></td><td style = \"text-align: left;\">2</td><td style = \"text-align: left;\">5762</td></tr><tr><td class = \"rowNumber\" style = \"font-weight: bold; text-align: right;\">4</td><td style = \"text-align: left;\">02 Oct 23</td><td style = \"text-align: left;\">COSTA COFFEE 43011</td><td style = \"text-align: left;\">DEB</td><td style = \"text-align: left;\"></td><td style = \"text-align: left;\">8</td><td style = \"text-align: left;\">5754</td></tr><tr><td class = \"rowNumber\" style = \"font-weight: bold; text-align: right;\">5</td><td style = \"text-align: left;\">02 Oct 23</td><td style = \"text-align: left;\">Turk&apos;s Head</td><td style = \"text-align: left;\">DEB</td><td style = \"text-align: left;\"></td><td style = \"text-align: left;\">12</td><td style = \"text-align: left;\">5741</td></tr><tr><td class = \"rowNumber\" style = \"font-weight: bold; text-align: right;\">6</td><td style = \"text-align: left;\">02 Oct 23</td><td style = \"text-align: left;\">PRET A MANGER</td><td style = \"text-align: left;\">DEB</td><td style = \"text-align: left;\"></td><td style = \"text-align: left;\">5</td><td style = \"text-align: left;\">5735</td></tr><tr><td class = \"rowNumber\" style = \"font-weight: bold; text-align: right;\">7</td><td style = \"text-align: left;\">02 Oct 23</td><td style = \"text-align: left;\">CO-OP GROUP 070527</td><td style = \"text-align: left;\">DEB</td><td style = \"text-align: left;\"></td><td style = \"text-align: left;\">11</td><td style = \"text-align: left;\">5724</td></tr><tr><td class = \"rowNumber\" style = \"font-weight: bold; text-align: right;\">8</td><td style = \"text-align: left;\">02 Oct 23</td><td style = \"text-align: left;\">London Cocktail Cl</td><td style = \"text-align: left;\">DEB</td><td style = \"text-align: left;\"></td><td style = \"text-align: left;\">23</td><td style = \"text-align: left;\">5700</td></tr><tr><td class = \"rowNumber\" style = \"font-weight: bold; text-align: right;\">9</td><td style = \"text-align: left;\">02 Oct 23</td><td style = \"text-align: left;\">EXETER CITY COUNCI</td><td style = \"text-align: left;\">DD</td><td style = \"text-align: left;\"></td><td style = \"text-align: left;\">5</td><td style = \"text-align: left;\">5695</td></tr><tr><td class = \"rowNumber\" style = \"font-weight: bold; text-align: right;\">10</td><td style = \"text-align: left;\">02 Oct 23</td><td style = \"text-align: left;\">EXETER CITY COUNCI</td><td style = \"text-align: left;\">DD</td><td style = \"text-align: left;\"></td><td style = \"text-align: left;\">29</td><td style = \"text-align: left;\">5666</td></tr><tr><td class = \"rowNumber\" style = \"font-weight: bold; text-align: right;\">11</td><td style = \"text-align: left;\">02 Oct 23</td><td style = \"text-align: left;\">Zettle_*Sundays</td><td style = \"text-align: left;\">DEB</td><td style = \"text-align: left;\"></td><td style = \"text-align: left;\">2</td><td style = \"text-align: left;\">5663</td></tr><tr><td class = \"rowNumber\" style = \"font-weight: bold; text-align: right;\">12</td><td style = \"text-align: left;\">02 Oct 23</td><td style = \"text-align: left;\">PAYPAL *NETFLIX</td><td style = \"text-align: left;\">DEB</td><td style = \"text-align: left;\"></td><td style = \"text-align: left;\">10</td><td style = \"text-align: left;\">5652</td></tr><tr><td class = \"rowNumber\" style = \"font-weight: bold; text-align: right;\">13</td><td style = \"text-align: left;\">02 Oct 23</td><td style = \"text-align: left;\">WHITTARD</td><td style = \"text-align: left;\">DEB</td><td style = \"text-align: left;\"></td><td style = \"text-align: left;\">18</td><td style = \"text-align: left;\">5634</td></tr><tr><td style = \"text-align: right;\">&vellip;</td><td style = \"text-align: right;\">&vellip;</td><td style = \"text-align: right;\">&vellip;</td><td style = \"text-align: right;\">&vellip;</td><td style = \"text-align: right;\">&vellip;</td><td style = \"text-align: right;\">&vellip;</td><td style = \"text-align: right;\">&vellip;</td></tr><tr><td class = \"rowNumber\" style = \"font-weight: bold; text-align: right;\">858</td><td style = \"text-align: left;\">28 Sep 23</td><td style = \"text-align: left;\">NON-GBP PURCH FEE</td><td style = \"text-align: left;\">DEB</td><td style = \"text-align: left;\"></td><td style = \"text-align: left;\">0</td><td style = \"text-align: left;\">3985</td></tr><tr><td class = \"rowNumber\" style = \"font-weight: bold; text-align: right;\">859</td><td style = \"text-align: left;\">28 Sep 23</td><td style = \"text-align: left;\">STGCOACH/CTYLINK</td><td style = \"text-align: left;\">DEB</td><td style = \"text-align: left;\"></td><td style = \"text-align: left;\">2</td><td style = \"text-align: left;\">3983</td></tr><tr><td class = \"rowNumber\" style = \"font-weight: bold; text-align: right;\">860</td><td style = \"text-align: left;\">28 Sep 23</td><td style = \"text-align: left;\">COSTA COFFEE 43011</td><td style = \"text-align: left;\">DEB</td><td style = \"text-align: left;\"></td><td style = \"text-align: left;\">3</td><td style = \"text-align: left;\">3979</td></tr><tr><td class = \"rowNumber\" style = \"font-weight: bold; text-align: right;\">861</td><td style = \"text-align: left;\">28 Sep 23</td><td style = \"text-align: left;\">TESCO STORES 2487</td><td style = \"text-align: left;\">DEB</td><td style = \"text-align: left;\"></td><td style = \"text-align: left;\">3</td><td style = \"text-align: left;\">3976</td></tr><tr><td class = \"rowNumber\" style = \"font-weight: bold; text-align: right;\">862</td><td style = \"text-align: left;\">28 Sep 23</td><td style = \"text-align: left;\">CO-OP GROUP 070527</td><td style = \"text-align: left;\">DEB</td><td style = \"text-align: left;\"></td><td style = \"text-align: left;\">7</td><td style = \"text-align: left;\">3968</td></tr><tr><td class = \"rowNumber\" style = \"font-weight: bold; text-align: right;\">863</td><td style = \"text-align: left;\">29 Sep 23</td><td style = \"text-align: left;\">FULL FIBRE LIMITED</td><td style = \"text-align: left;\">BGC</td><td style = \"text-align: left;\">2197</td><td style = \"text-align: left;\"></td><td style = \"text-align: left;\">6166</td></tr><tr><td class = \"rowNumber\" style = \"font-weight: bold; text-align: right;\">864</td><td style = \"text-align: left;\">29 Sep 23</td><td style = \"text-align: left;\">STEPHEN GIBSON</td><td style = \"text-align: left;\">FPO</td><td style = \"text-align: left;\"></td><td style = \"text-align: left;\">350</td><td style = \"text-align: left;\">5816</td></tr><tr><td class = \"rowNumber\" style = \"font-weight: bold; text-align: right;\">865</td><td style = \"text-align: left;\">29 Sep 23</td><td style = \"text-align: left;\">STGCOACH/CTYLINK</td><td style = \"text-align: left;\">DEB</td><td style = \"text-align: left;\"></td><td style = \"text-align: left;\">2</td><td style = \"text-align: left;\">5814</td></tr><tr><td class = \"rowNumber\" style = \"font-weight: bold; text-align: right;\">866</td><td style = \"text-align: left;\">29 Sep 23</td><td style = \"text-align: left;\">PRET A MANGER</td><td style = \"text-align: left;\">DEB</td><td style = \"text-align: left;\"></td><td style = \"text-align: left;\">5</td><td style = \"text-align: left;\">5808</td></tr><tr><td class = \"rowNumber\" style = \"font-weight: bold; text-align: right;\">867</td><td style = \"text-align: left;\">29 Sep 23</td><td style = \"text-align: left;\">STGCOACH/CTYLINK</td><td style = \"text-align: left;\">DEB</td><td style = \"text-align: left;\"></td><td style = \"text-align: left;\">2</td><td style = \"text-align: left;\">5806</td></tr><tr><td class = \"rowNumber\" style = \"font-weight: bold; text-align: right;\">868</td><td style = \"text-align: left;\">29 Sep 23</td><td style = \"text-align: left;\">MARKS&amp;SPENCER PLC</td><td style = \"text-align: left;\">DEB</td><td style = \"text-align: left;\"></td><td style = \"text-align: left;\">17</td><td style = \"text-align: left;\">5789</td></tr><tr><td class = \"rowNumber\" style = \"font-weight: bold; text-align: right;\">869</td><td style = \"text-align: left;\">29 Sep 23</td><td style = \"text-align: left;\">MARKS&amp;SPENCER PLC</td><td style = \"text-align: left;\">DEB</td><td style = \"text-align: left;\"></td><td style = \"text-align: left;\">17</td><td style = \"text-align: left;\">5772</td></tr></tbody></table></div>"
      ],
      "text/latex": [
       "\\begin{tabular}{r|cccccc}\n",
       "\t& Date & Description & Type & Money In (£) & Money Out (£) & Balance (£)\\\\\n",
       "\t\\hline\n",
       "\t& String15 & String31 & String3 & String & String & String\\\\\n",
       "\t\\hline\n",
       "\t1 & 02 Oct 23 & STGCOACH/CTYLINK & DEB &  & 2 & 5770 \\\\\n",
       "\t2 & 02 Oct 23 & PRET A MANGER & DEB &  & 5 & 5764 \\\\\n",
       "\t3 & 02 Oct 23 & STGCOACH/CTYLINK & DEB &  & 2 & 5762 \\\\\n",
       "\t4 & 02 Oct 23 & COSTA COFFEE 43011 & DEB &  & 8 & 5754 \\\\\n",
       "\t5 & 02 Oct 23 & Turk's Head & DEB &  & 12 & 5741 \\\\\n",
       "\t6 & 02 Oct 23 & PRET A MANGER & DEB &  & 5 & 5735 \\\\\n",
       "\t7 & 02 Oct 23 & CO-OP GROUP 070527 & DEB &  & 11 & 5724 \\\\\n",
       "\t8 & 02 Oct 23 & London Cocktail Cl & DEB &  & 23 & 5700 \\\\\n",
       "\t9 & 02 Oct 23 & EXETER CITY COUNCI & DD &  & 5 & 5695 \\\\\n",
       "\t10 & 02 Oct 23 & EXETER CITY COUNCI & DD &  & 29 & 5666 \\\\\n",
       "\t11 & 02 Oct 23 & Zettle\\_*Sundays & DEB &  & 2 & 5663 \\\\\n",
       "\t12 & 02 Oct 23 & PAYPAL *NETFLIX & DEB &  & 10 & 5652 \\\\\n",
       "\t13 & 02 Oct 23 & WHITTARD & DEB &  & 18 & 5634 \\\\\n",
       "\t14 & 02 Oct 23 & Chandos Deli & DEB &  & 19 & 5614 \\\\\n",
       "\t15 & 02 Oct 23 & TCH EXETER & DEB &  & 29 & 5584 \\\\\n",
       "\t16 & 02 Oct 23 & APPLE & DEB &  & 14 & 5569 \\\\\n",
       "\t17 & 03 Oct 23 & STGCOACH/CTYLINK & DEB &  & 2 & 5567 \\\\\n",
       "\t18 & 03 Oct 23 & MARKS\\&SPENCER PLC & DEB &  & 8 & 5559 \\\\\n",
       "\t19 & 04 Oct 23 & PRET A MANGER & DEB &  & 5 & 5553 \\\\\n",
       "\t20 & 04 Oct 23 & STGCOACH/CTYLINK & DEB &  & 2 & 5551 \\\\\n",
       "\t21 & 04 Oct 23 & STGCOACH/CTYLINK & DEB &  & 2 & 5549 \\\\\n",
       "\t22 & 04 Oct 23 & COSTA COFFEE 43011 & DEB &  & 3 & 5545 \\\\\n",
       "\t23 & 04 Oct 23 & CO-OP GROUP 070527 & DEB &  & 9 & 5536 \\\\\n",
       "\t24 & 04 Oct 23 & APPLE & DEB &  & 49 & 5486 \\\\\n",
       "\t$\\dots$ & $\\dots$ & $\\dots$ & $\\dots$ & $\\dots$ & $\\dots$ & $\\dots$ \\\\\n",
       "\\end{tabular}\n"
      ],
      "text/plain": [
       "\u001b[1m869×6 DataFrame\u001b[0m\n",
       "\u001b[1m Row \u001b[0m│\u001b[1m Date      \u001b[0m\u001b[1m Description        \u001b[0m\u001b[1m Type    \u001b[0m\u001b[1m Money In (£) \u001b[0m\u001b[1m Money Out (£) \u001b[0m\u001b[1m Ba\u001b[0m ⋯\n",
       "     │\u001b[90m String15  \u001b[0m\u001b[90m String31           \u001b[0m\u001b[90m String3 \u001b[0m\u001b[90m String       \u001b[0m\u001b[90m String        \u001b[0m\u001b[90m St\u001b[0m ⋯\n",
       "─────┼──────────────────────────────────────────────────────────────────────────\n",
       "   1 │ 02 Oct 23  STGCOACH/CTYLINK    DEB                    2              57 ⋯\n",
       "   2 │ 02 Oct 23  PRET A MANGER       DEB                    5              57\n",
       "   3 │ 02 Oct 23  STGCOACH/CTYLINK    DEB                    2              57\n",
       "   4 │ 02 Oct 23  COSTA COFFEE 43011  DEB                    8              57\n",
       "   5 │ 02 Oct 23  Turk's Head         DEB                    12             57 ⋯\n",
       "   6 │ 02 Oct 23  PRET A MANGER       DEB                    5              57\n",
       "   7 │ 02 Oct 23  CO-OP GROUP 070527  DEB                    11             57\n",
       "   8 │ 02 Oct 23  London Cocktail Cl  DEB                    23             57\n",
       "  ⋮  │     ⋮              ⋮              ⋮          ⋮              ⋮           ⋱\n",
       " 863 │ 29 Sep 23  FULL FIBRE LIMITED  BGC      2197                         61 ⋯\n",
       " 864 │ 29 Sep 23  STEPHEN GIBSON      FPO                    350            58\n",
       " 865 │ 29 Sep 23  STGCOACH/CTYLINK    DEB                    2              58\n",
       " 866 │ 29 Sep 23  PRET A MANGER       DEB                    5              58\n",
       " 867 │ 29 Sep 23  STGCOACH/CTYLINK    DEB                    2              58 ⋯\n",
       " 868 │ 29 Sep 23  MARKS&SPENCER PLC   DEB                    17             57\n",
       " 869 │ 29 Sep 23  MARKS&SPENCER PLC   DEB                    17             57\n",
       "\u001b[36m                                                   1 column and 854 rows omitted\u001b[0m"
      ]
     },
     "metadata": {},
     "output_type": "display_data"
    }
   ],
   "source": [
    "# subset(my_statement, :Description => x -> occursin.(r\"Turk's Head|Topsham\", x))\n",
    "using DataFramesMeta\n",
    "\n",
    "my_statement = CSV.read(\"banks-data.csv\", DataFrame)\n",
    "df = my_statement\n",
    "@chain my_statement begin\n",
    "    @subset occursin.(r\"Turk's Head|Topsham\", :Description)\n",
    "    # @select r\"£\"\n",
    "    # @select r\"£\" => replace.(\"blank\"=>\"\")\n",
    "    # groupby(:Date)\n",
    "    # @combine :n=sum(:\"Money In (£)\")\n",
    "end\n",
    "\n",
    "# Select Column with symbol £\n",
    "select(my_statement, r\"£\")\n",
    "\n",
    "## in pipe\n",
    "using Pipe  \n",
    "@pipe my_statement |> \n",
    "    select(_,r\"£\")\n",
    "\n",
    "# Select Column while transform\n",
    "select(my_statement,\"Money Out (£)\"=>x->replace(x, \"blank\"=>\"\"))\n",
    "\n",
    "select(my_statement,\n",
    "        # as sayint combine this two into a fector\n",
    "        [\"Money Out (£)\", \"Money In (£)\"].=>x-> replace.(x, r\"blank|,\" => s\"\")\n",
    "    )\n",
    "\n",
    "# but actually multi column selector used by\n",
    "pound_col=names(my_statement, x->occursin('£', x))\n",
    "transform!(df, pound_col => ByRow((x...)-> (replace.(x, r\"blank|,\"=>\"\"))) => pound_col)\n",
    "# transform!(df, pound_col .=> replace.(x, r\"blank|,\"=>\"\"); renamecols=false)"
   ]
  },
  {
   "cell_type": "markdown",
   "metadata": {},
   "source": [
    "### Base Data Frame Method"
   ]
  },
  {
   "cell_type": "code",
   "execution_count": 344,
   "metadata": {},
   "outputs": [
    {
     "name": "stdout",
     "output_type": "stream",
     "text": [
      "Begain type conversion\n",
      "Object is no longer the same\n",
      "So you have to do this:\n",
      "\u001b[1m3×6 DataFrame\u001b[0m\n",
      "\u001b[1m Row \u001b[0m│\u001b[1m Date      \u001b[0m\u001b[1m Description        \u001b[0m\u001b[1m Type    \u001b[0m\u001b[1m Money In (£) \u001b[0m\u001b[1m Money Out (£) \u001b[0m\u001b[1m Balance (£) \u001b[0m\n",
      "     │\u001b[90m String15  \u001b[0m\u001b[90m String31           \u001b[0m\u001b[90m String3 \u001b[0m\u001b[90m String7      \u001b[0m\u001b[90m String7       \u001b[0m\u001b[90m String7     \u001b[0m\n",
      "─────┼──────────────────────────────────────────────────────────────────────────────────\n",
      "   1 │ 12 Jul 23  PRET A MANGER       DEB      blank         8              3,316\n",
      "   2 │ 08 Aug 23  168 ORIENTAL SUPER  DEB      blank         5              4,178\n",
      "   3 │ 19 Jun 23  CO-OP GROUP 070527  DEB      blank         22             3,455\n",
      "See how [\"Money In (£)\", \"Money Out (£)\", \"Balance (£)\"] is still stored in string?\n",
      "you have to do this \n",
      "`begin\n",
      "    #= /Users/frankliang/Dropbox/Personal/code/Pet Project/12-06 Julia II/Spending.ipynb:26 =#\n",
      "    my_statement[!, pound_col] = x\n",
      "end`\n",
      "\n",
      "\u001b[1m3×6 DataFrame\u001b[0m\n",
      "\u001b[1m Row \u001b[0m│\u001b[1m Date      \u001b[0m\u001b[1m Description        \u001b[0m\u001b[1m Type    \u001b[0m\u001b[1m Money In (£) \u001b[0m\u001b[1m Money Out (£) \u001b[0m\u001b[1m Balance (£) \u001b[0m\n",
      "     │\u001b[90m String15  \u001b[0m\u001b[90m String31           \u001b[0m\u001b[90m String3 \u001b[0m\u001b[90m Float64      \u001b[0m\u001b[90m Float64       \u001b[0m\u001b[90m Float64     \u001b[0m\n",
      "─────┼──────────────────────────────────────────────────────────────────────────────────\n",
      "   1 │ 25 Oct 23  STGCOACH/CTYLINK    DEB               0.0            2.0       4409.0\n",
      "   2 │ 21 Aug 23  DELIVEROO           DEB               0.0           16.0       3717.0\n",
      "   3 │ 09 Aug 23  COSTA COFFEE 43011  DEB               0.0            6.0       4154.0\n",
      "Now the [\"Money In (£)\", \"Money Out (£)\", \"Balance (£)\"] is transformed into Float.\n"
     ]
    }
   ],
   "source": [
    "my_statement = CSV.read(\"banks-data.csv\", DataFrame)\n",
    "using StatsBase\n",
    "# if you put ! on other row you have in place transformation\n",
    "# which I found in this instance you are better off using base\n",
    "println(\"Begain type conversion\")# in reactive context it may worth configure code in this format \n",
    "# just so it is easy to debug if you run into the same problem twice.\n",
    "\n",
    "pound_col=names(my_statement, x->occursin('£', x))\n",
    "# Is x a instance of a copy? \n",
    "x=my_statement[!,pound_col]\n",
    "\n",
    "x=replace.(x,\"blank\"=>\"0\")\n",
    "x=replace.(x,\",\"=>\"\")\n",
    "x=parse.(Float64,x)\n",
    "\n",
    "if x===my_statement[!,pound_col]\n",
    "    println(\"Object is the same\")\n",
    "else \n",
    "    println(\"Object is no longer the same\")\n",
    "    println(\"So you have to do this:\")\n",
    "    vec = [i for i in 1:size(df)[1]]\n",
    "    println(my_statement[sample(vec,3),:])\n",
    "    println(\"See how $pound_col is still stored in string?\")\n",
    "    \n",
    "    my_expr= quote\n",
    "        my_statement[!,pound_col]=x\n",
    "    end\n",
    "    \n",
    "    println(\"you have to do this \\n`$(my_expr)`\\n\")\n",
    "\n",
    "    eval(my_expr)\n",
    "    println(my_statement[sample(vec,3),:])\n",
    "    println(\"Now the $pound_col is transformed into Float.\")\n",
    "end\n",
    "# my_statement"
   ]
  },
  {
   "cell_type": "markdown",
   "metadata": {},
   "source": [
    "Although assign data frame to a variable is considered pointer instance. Pointing at \n",
    "a subset is not."
   ]
  },
  {
   "cell_type": "code",
   "execution_count": 345,
   "metadata": {},
   "outputs": [
    {
     "name": "stdout",
     "output_type": "stream",
     "text": [
      "I'm a transformed data\n"
     ]
    },
    {
     "data": {
      "text/html": [
       "<div><div style = \"float: left;\"><span>3×6 DataFrame</span></div><div style = \"clear: both;\"></div></div><div class = \"data-frame\" style = \"overflow-x: scroll;\"><table class = \"data-frame\" style = \"margin-bottom: 6px;\"><thead><tr class = \"header\"><th class = \"rowNumber\" style = \"font-weight: bold; text-align: right;\">Row</th><th style = \"text-align: left;\">Date</th><th style = \"text-align: left;\">Description</th><th style = \"text-align: left;\">Type</th><th style = \"text-align: left;\">Money In (£)</th><th style = \"text-align: left;\">Money Out (£)</th><th style = \"text-align: left;\">Balance (£)</th></tr><tr class = \"subheader headerLastRow\"><th class = \"rowNumber\" style = \"font-weight: bold; text-align: right;\"></th><th title = \"String15\" style = \"text-align: left;\">String15</th><th title = \"String31\" style = \"text-align: left;\">String31</th><th title = \"String3\" style = \"text-align: left;\">String3</th><th title = \"Float64\" style = \"text-align: left;\">Float64</th><th title = \"Float64\" style = \"text-align: left;\">Float64</th><th title = \"Float64\" style = \"text-align: left;\">Float64</th></tr></thead><tbody><tr><td class = \"rowNumber\" style = \"font-weight: bold; text-align: right;\">1</td><td style = \"text-align: left;\">31 Jul 23</td><td style = \"text-align: left;\">FULL FIBRE LIMITED</td><td style = \"text-align: left;\">BGC</td><td style = \"text-align: right;\">2197.0</td><td style = \"text-align: right;\">0.0</td><td style = \"text-align: right;\">4828.0</td></tr><tr><td class = \"rowNumber\" style = \"font-weight: bold; text-align: right;\">2</td><td style = \"text-align: left;\">24 Nov 23</td><td style = \"text-align: left;\">NEXT RETAIL LTD</td><td style = \"text-align: left;\">DEB</td><td style = \"text-align: right;\">0.0</td><td style = \"text-align: right;\">16.0</td><td style = \"text-align: right;\">3649.0</td></tr><tr><td class = \"rowNumber\" style = \"font-weight: bold; text-align: right;\">3</td><td style = \"text-align: left;\">29 Sep 23</td><td style = \"text-align: left;\">MARKS&amp;SPENCER PLC</td><td style = \"text-align: left;\">DEB</td><td style = \"text-align: right;\">0.0</td><td style = \"text-align: right;\">17.0</td><td style = \"text-align: right;\">5772.0</td></tr></tbody></table></div>"
      ],
      "text/latex": [
       "\\begin{tabular}{r|cccccc}\n",
       "\t& Date & Description & Type & Money In (£) & Money Out (£) & Balance (£)\\\\\n",
       "\t\\hline\n",
       "\t& String15 & String31 & String3 & Float64 & Float64 & Float64\\\\\n",
       "\t\\hline\n",
       "\t1 & 31 Jul 23 & FULL FIBRE LIMITED & BGC & 2197.0 & 0.0 & 4828.0 \\\\\n",
       "\t2 & 24 Nov 23 & NEXT RETAIL LTD & DEB & 0.0 & 16.0 & 3649.0 \\\\\n",
       "\t3 & 29 Sep 23 & MARKS\\&SPENCER PLC & DEB & 0.0 & 17.0 & 5772.0 \\\\\n",
       "\\end{tabular}\n"
      ],
      "text/plain": [
       "\u001b[1m3×6 DataFrame\u001b[0m\n",
       "\u001b[1m Row \u001b[0m│\u001b[1m Date      \u001b[0m\u001b[1m Description        \u001b[0m\u001b[1m Type    \u001b[0m\u001b[1m Money In (£) \u001b[0m\u001b[1m Money Out (£) \u001b[0m\u001b[1m Ba\u001b[0m ⋯\n",
       "     │\u001b[90m String15  \u001b[0m\u001b[90m String31           \u001b[0m\u001b[90m String3 \u001b[0m\u001b[90m Float64      \u001b[0m\u001b[90m Float64       \u001b[0m\u001b[90m Fl\u001b[0m ⋯\n",
       "─────┼──────────────────────────────────────────────────────────────────────────\n",
       "   1 │ 31 Jul 23  FULL FIBRE LIMITED  BGC            2197.0            0.0     ⋯\n",
       "   2 │ 24 Nov 23  NEXT RETAIL LTD     DEB               0.0           16.0\n",
       "   3 │ 29 Sep 23  MARKS&SPENCER PLC   DEB               0.0           17.0\n",
       "\u001b[36m                                                                1 column omitted\u001b[0m"
      ]
     },
     "metadata": {},
     "output_type": "display_data"
    }
   ],
   "source": [
    "println(\"I'm a transformed data\")\n",
    "my_statement[sample(vec,3),:]"
   ]
  }
 ],
 "metadata": {
  "kernelspec": {
   "display_name": "Julia 1.9.4",
   "language": "julia",
   "name": "julia-1.9"
  },
  "language_info": {
   "file_extension": ".jl",
   "mimetype": "application/julia",
   "name": "julia",
   "version": "1.9.4"
  }
 },
 "nbformat": 4,
 "nbformat_minor": 2
}
