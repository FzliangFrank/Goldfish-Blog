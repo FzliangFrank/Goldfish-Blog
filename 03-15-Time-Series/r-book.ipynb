{
 "cells": [
  {
   "cell_type": "markdown",
   "metadata": {},
   "source": [
    "---\n",
    "title: Use R in a jupyter notebook?\n",
    "---\n",
    "\n",
    "This notebook is writtten in jupyter!"
   ]
  },
  {
   "cell_type": "code",
   "execution_count": 2,
   "metadata": {
    "vscode": {
     "languageId": "r"
    }
   },
   "outputs": [
    {
     "name": "stderr",
     "output_type": "stream",
     "text": [
      "-- \u001b[1mAttaching core tidyverse packages\u001b[22m ------------------------ tidyverse 2.0.0 --\n",
      "\u001b[32mv\u001b[39m \u001b[34mdplyr    \u001b[39m 1.1.0     \u001b[32mv\u001b[39m \u001b[34mreadr    \u001b[39m 2.1.4\n",
      "\u001b[32mv\u001b[39m \u001b[34mforcats  \u001b[39m 1.0.0     \u001b[32mv\u001b[39m \u001b[34mstringr  \u001b[39m 1.5.0\n",
      "\u001b[32mv\u001b[39m \u001b[34mlubridate\u001b[39m 1.9.2     \u001b[32mv\u001b[39m \u001b[34mtibble   \u001b[39m 3.1.8\n",
      "\u001b[32mv\u001b[39m \u001b[34mpurrr    \u001b[39m 1.0.1     \u001b[32mv\u001b[39m \u001b[34mtidyr    \u001b[39m 1.3.0\n",
      "-- \u001b[1mConflicts\u001b[22m ------------------------------------------ tidyverse_conflicts() --\n",
      "\u001b[31mx\u001b[39m \u001b[34mdplyr\u001b[39m::\u001b[32mfilter()\u001b[39m masks \u001b[34mstats\u001b[39m::filter()\n",
      "\u001b[31mx\u001b[39m \u001b[34mdplyr\u001b[39m::\u001b[32mlag()\u001b[39m    masks \u001b[34mstats\u001b[39m::lag()\n",
      "\u001b[36mi\u001b[39m Use the conflicted package (\u001b[3m\u001b[34m<http://conflicted.r-lib.org/>\u001b[39m\u001b[23m) to force all conflicts to become errors\n"
     ]
    }
   ],
   "source": [
    "library(ggplot2)\n",
    "library(tidyverse)"
   ]
  },
  {
   "cell_type": "code",
   "execution_count": 4,
   "metadata": {
    "vscode": {
     "languageId": "r"
    }
   },
   "outputs": [
    {
     "name": "stderr",
     "output_type": "stream",
     "text": [
      "\u001b[1mRows: \u001b[22m\u001b[34m3000888\u001b[39m \u001b[1mColumns: \u001b[22m\u001b[34m6\u001b[39m\n",
      "\u001b[36m--\u001b[39m \u001b[1mColumn specification\u001b[22m \u001b[36m--------------------------------------------------------\u001b[39m\n",
      "\u001b[1mDelimiter:\u001b[22m \",\"\n",
      "\u001b[31mchr\u001b[39m  (1): family\n",
      "\u001b[32mdbl\u001b[39m  (4): id, store_nbr, sales, onpromotion\n",
      "\u001b[34mdate\u001b[39m (1): date\n",
      "\n",
      "\u001b[36mi\u001b[39m Use `spec()` to retrieve the full column specification for this data.\n",
      "\u001b[36mi\u001b[39m Specify the column types or set `show_col_types = FALSE` to quiet this message.\n"
     ]
    }
   ],
   "source": [
    "df = readr::read_csv('data/store-sales-time-series-forecasting/train.csv')"
   ]
  },
  {
   "cell_type": "code",
   "execution_count": 10,
   "metadata": {
    "vscode": {
     "languageId": "r"
    }
   },
   "outputs": [
    {
     "data": {
      "text/html": [
       "<table class=\"dataframe\">\n",
       "<caption>A tibble: 6 x 6</caption>\n",
       "<thead>\n",
       "\t<tr><th scope=col>id</th><th scope=col>date</th><th scope=col>store_nbr</th><th scope=col>family</th><th scope=col>sales</th><th scope=col>onpromotion</th></tr>\n",
       "\t<tr><th scope=col>&lt;dbl&gt;</th><th scope=col>&lt;date&gt;</th><th scope=col>&lt;dbl&gt;</th><th scope=col>&lt;chr&gt;</th><th scope=col>&lt;dbl&gt;</th><th scope=col>&lt;dbl&gt;</th></tr>\n",
       "</thead>\n",
       "<tbody>\n",
       "\t<tr><td>0</td><td>2013-01-01</td><td>1</td><td>AUTOMOTIVE  </td><td>0</td><td>0</td></tr>\n",
       "\t<tr><td>1</td><td>2013-01-01</td><td>1</td><td>BABY CARE   </td><td>0</td><td>0</td></tr>\n",
       "\t<tr><td>2</td><td>2013-01-01</td><td>1</td><td>BEAUTY      </td><td>0</td><td>0</td></tr>\n",
       "\t<tr><td>3</td><td>2013-01-01</td><td>1</td><td>BEVERAGES   </td><td>0</td><td>0</td></tr>\n",
       "\t<tr><td>4</td><td>2013-01-01</td><td>1</td><td>BOOKS       </td><td>0</td><td>0</td></tr>\n",
       "\t<tr><td>5</td><td>2013-01-01</td><td>1</td><td>BREAD/BAKERY</td><td>0</td><td>0</td></tr>\n",
       "</tbody>\n",
       "</table>\n"
      ],
      "text/latex": [
       "A tibble: 6 x 6\n",
       "\\begin{tabular}{llllll}\n",
       " id & date & store\\_nbr & family & sales & onpromotion\\\\\n",
       " <dbl> & <date> & <dbl> & <chr> & <dbl> & <dbl>\\\\\n",
       "\\hline\n",
       "\t 0 & 2013-01-01 & 1 & AUTOMOTIVE   & 0 & 0\\\\\n",
       "\t 1 & 2013-01-01 & 1 & BABY CARE    & 0 & 0\\\\\n",
       "\t 2 & 2013-01-01 & 1 & BEAUTY       & 0 & 0\\\\\n",
       "\t 3 & 2013-01-01 & 1 & BEVERAGES    & 0 & 0\\\\\n",
       "\t 4 & 2013-01-01 & 1 & BOOKS        & 0 & 0\\\\\n",
       "\t 5 & 2013-01-01 & 1 & BREAD/BAKERY & 0 & 0\\\\\n",
       "\\end{tabular}\n"
      ],
      "text/markdown": [
       "\n",
       "A tibble: 6 x 6\n",
       "\n",
       "| id &lt;dbl&gt; | date &lt;date&gt; | store_nbr &lt;dbl&gt; | family &lt;chr&gt; | sales &lt;dbl&gt; | onpromotion &lt;dbl&gt; |\n",
       "|---|---|---|---|---|---|\n",
       "| 0 | 2013-01-01 | 1 | AUTOMOTIVE   | 0 | 0 |\n",
       "| 1 | 2013-01-01 | 1 | BABY CARE    | 0 | 0 |\n",
       "| 2 | 2013-01-01 | 1 | BEAUTY       | 0 | 0 |\n",
       "| 3 | 2013-01-01 | 1 | BEVERAGES    | 0 | 0 |\n",
       "| 4 | 2013-01-01 | 1 | BOOKS        | 0 | 0 |\n",
       "| 5 | 2013-01-01 | 1 | BREAD/BAKERY | 0 | 0 |\n",
       "\n"
      ],
      "text/plain": [
       "  id date       store_nbr family       sales onpromotion\n",
       "1 0  2013-01-01 1         AUTOMOTIVE   0     0          \n",
       "2 1  2013-01-01 1         BABY CARE    0     0          \n",
       "3 2  2013-01-01 1         BEAUTY       0     0          \n",
       "4 3  2013-01-01 1         BEVERAGES    0     0          \n",
       "5 4  2013-01-01 1         BOOKS        0     0          \n",
       "6 5  2013-01-01 1         BREAD/BAKERY 0     0          "
      ]
     },
     "metadata": {},
     "output_type": "display_data"
    }
   ],
   "source": [
    "df |> head()"
   ]
  },
  {
   "cell_type": "code",
   "execution_count": null,
   "metadata": {
    "vscode": {
     "languageId": "r"
    }
   },
   "outputs": [],
   "source": []
  }
 ],
 "metadata": {
  "kernelspec": {
   "display_name": "R",
   "language": "R",
   "name": "ir"
  },
  "language_info": {
   "codemirror_mode": "r",
   "file_extension": ".r",
   "mimetype": "text/x-r-source",
   "name": "R",
   "pygments_lexer": "r",
   "version": "4.2.2"
  },
  "orig_nbformat": 4
 },
 "nbformat": 4,
 "nbformat_minor": 2
}
