{
 "cells": [
  {
   "cell_type": "markdown",
   "metadata": {},
   "source": [
    "## Fist Time Setup Dont Touch"
   ]
  },
  {
   "cell_type": "markdown",
   "metadata": {},
   "source": [
    "### Bulk read All Files\n",
    "Read all pdf files stored in `BANK_STATMENT` on a drop box and re-analyse them"
   ]
  },
  {
   "cell_type": "code",
   "execution_count": null,
   "metadata": {},
   "outputs": [
    {
     "name": "stdout",
     "output_type": "stream",
     "text": [
      "Read... Total 1 tables populated.\n",
      "Read... Total 2 tables populated.\n",
      "Read... Total 3 tables populated.\n",
      "Read... Total 4 tables populated.\n",
      "Read... Total 5 tables populated.\n",
      "Read... Total 6 tables populated.\n",
      "Read... Total 7 tables populated.\n",
      "Read... Total 8 tables populated.\n",
      "Read... Total 9 tables populated.\n",
      "Read... Total 10 tables populated.\n",
      "Read... Total 11 tables populated.\n",
      "cleaning complete.\n"
     ]
    }
   ],
   "source": [
    "# bulk read (only do this)\n",
    "import os\n",
    "import pdf_bank_statement.analyser as analyser\n",
    "import pdf_bank_statement.reader as reader\n",
    "\n",
    "BANK_STATEMENT = \"/Users/frankliang/Dropbox/Apps/Bank-Statement-Reader/BANK_STATEMENT\"\n",
    "all_files = os.listdir(BANK_STATEMENT)\n",
    "\n",
    "all_statement=[*map(lambda x: BANK_STATEMENT + '/' + x, all_files)]\n",
    "\n",
    "\n",
    "df = reader.read(all_statement)\n",
    "analysed=analyser.analyse(df) # categorise mainly"
   ]
  },
  {
   "cell_type": "markdown",
   "metadata": {},
   "source": [
    "### First Time Bluk Create a Table\n",
    "\n",
    "Never run this script after everything has been set up. Because we will \n",
    "use reference number id to store which transaction are marked as varible, \n",
    "which one are none variable.\n",
    "\n",
    "\n",
    "**Concerns For Multiple Bank Account**\n",
    "\n",
    "Before we do so we must consider for point where we may actually open different bank statement or we end up unable to tell which account is which...\n",
    "\n",
    "So it maybe worth creating a foregin key on a column. Add additional table here [Reference](https://www.devart.com/dbforge/sql/studio/add-column-to-table-sql-server.html#:~:text=The%20basic%20syntax%20of%20the,to%20add%20a%20new%20column.) "
   ]
  },
  {
   "cell_type": "code",
   "execution_count": null,
   "metadata": {},
   "outputs": [
    {
     "data": {
      "text/plain": [
       "┌─────────────────────┬────────────────────┬─────────┬───┬─────────────┬────────────────┬──────────────────────┐\n",
       "│        Date         │    Description     │  Type   │ … │ Balance (£) │    Category    │       src_file       │\n",
       "│    timestamp_ns     │      varchar       │ varchar │   │   double    │    varchar     │       varchar        │\n",
       "├─────────────────────┼────────────────────┼─────────┼───┼─────────────┼────────────────┼──────────────────────┤\n",
       "│ 2023-01-19 00:00:00 │ CO-OP GROUP 070527 │ DEB     │ … │      2597.0 │ Food & Grocery │ /Users/frankliang/…  │\n",
       "│ 2023-02-28 00:00:00 │ TESCO STORES 2487  │ DEB     │ … │      4642.0 │ Food & Grocery │ /Users/frankliang/…  │\n",
       "│ 2023-10-02 00:00:00 │ Zettle_*Sundays    │ DEB     │ … │      5663.0 │ Other          │ /Users/frankliang/…  │\n",
       "├─────────────────────┴────────────────────┴─────────┴───┴─────────────┴────────────────┴──────────────────────┤\n",
       "│ 3 rows                                                                                   8 columns (6 shown) │\n",
       "└──────────────────────────────────────────────────────────────────────────────────────────────────────────────┘"
      ]
     },
     "metadata": {},
     "output_type": "display_data"
    }
   ],
   "source": [
    "import duckdb\n",
    "im_con = duckdb.connect()\n",
    "analysed_data = analysed.data\n",
    "analysed_data.sample(3)\n",
    "duckdb.from_df(analysed_data.iloc[:,0:8].sample(3))"
   ]
  },
  {
   "cell_type": "code",
   "execution_count": null,
   "metadata": {},
   "outputs": [],
   "source": [
    "import duckdb\n",
    "\n",
    "DB_PATH = '/Users/frankliang/Dropbox/Apps/DuckDb/personal.db'\n",
    "with duckdb.connect(DB_PATH) as con:\n",
    "    try:\n",
    "        con.sql('''\n",
    "                DROP TABLE my.bank_statement;\n",
    "                DROP SEQUENCE seq_bank_statement;\n",
    "                ''')\n",
    "        print(\"Table droped\")\n",
    "    except:\n",
    "       pass\n",
    "    finally:\n",
    "        print(\"Creating new table\")\n",
    "        con.sql('''\n",
    "                CREATE SCHEMA IF NOT EXISTS my;\n",
    "                CREATE SEQUENCE IF NOT EXISTS seq_bank_statement START 1;\n",
    "                CREATE TABLE my.bank_statement (\n",
    "                    Id INTEGER PRIMARY KEY,\n",
    "                    Date timestamp_ns,\n",
    "                    Description VARCHAR,\n",
    "                    Type VARCHAR(3),\n",
    "                    \"Money In (£)\" DOUBLE,\n",
    "                    \"Money Out (£)\" DOUBLE,\n",
    "                    \"Balance (£)\" DOUBLE,\n",
    "                    \"Category\" VARCHAR(32),\n",
    "                    src_file VARCHAR(100)\n",
    "                );\n",
    "                INSERT INTO my.bank_statement\n",
    "                SELECT nextval('seq_bank_statement'),* \n",
    "                FROM analysed_data\n",
    "        ''')\n",
    "        print(\"Sampled Data Looks Like this\")\n",
    "        print(con.sql(\"Select * from my.bank_statement order by random() limit 3\"))\n",
    "\n",
    "    "
   ]
  }
 ],
 "metadata": {
  "language_info": {
   "name": "python"
  }
 },
 "nbformat": 4,
 "nbformat_minor": 2
}
