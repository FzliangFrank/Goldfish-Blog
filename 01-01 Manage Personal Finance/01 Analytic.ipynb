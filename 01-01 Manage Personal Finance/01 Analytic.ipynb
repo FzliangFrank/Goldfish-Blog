{
 "cells": [
  {
   "cell_type": "markdown",
   "metadata": {},
   "source": [
    "### Ad Hoc Analytic\n",
    "Best practice is to just know what you want to know from this "
   ]
  },
  {
   "cell_type": "code",
   "execution_count": 1,
   "metadata": {},
   "outputs": [
    {
     "data": {
      "text/plain": [
       "┌──────────────────────┬────────────────────┬────────────────────────────────┬──────────┐\n",
       "│ Earliest Transaction │ Latest Transaction │ Avg £ Out Per Month (Net Rent) │ Avg £ In │\n",
       "│         date         │        date        │             double             │  double  │\n",
       "├──────────────────────┼────────────────────┼────────────────────────────────┼──────────┤\n",
       "│ 2023-06-01           │ 2023-11-30         │                         2561.8 │   3012.6 │\n",
       "└──────────────────────┴────────────────────┴────────────────────────────────┴──────────┘"
      ]
     },
     "execution_count": 1,
     "metadata": {},
     "output_type": "execute_result"
    }
   ],
   "source": [
    "import duckdb\n",
    "from dotenv import load_dotenv\n",
    "load_dotenv()\n",
    "\n",
    "import os\n",
    "\n",
    "con = duckdb.connect(os.getenv('DB_PATH'), read_only=True)\n",
    "bs = con.sql('SELECT * FROM my.bank_statement')\n",
    "bs.aggregate('''\n",
    "             min(Date)::datetime::date as \"Earliest Transaction\", \n",
    "             max(Date)::datetime::date as \"Latest Transaction\",\n",
    "             sum(\"Money out (£)\") FILTER (WHERE Category != 'Rent & Essential')\n",
    "                / datediff('month', min(Date), max(Date))\n",
    "                as \"Avg £ Out Per Month (Net Rent)\",\n",
    "             sum(\"Money in (£)\")\n",
    "                / datediff('month', min(Date), max(Date))\n",
    "                as \"Avg £ In\",\n",
    "             ''') # now the problem here is aggregate method in duckdb is different to ibis"
   ]
  },
  {
   "cell_type": "code",
   "execution_count": 2,
   "metadata": {},
   "outputs": [
    {
     "name": "stdout",
     "output_type": "stream",
     "text": [
      "┌────────────┐\n",
      "│  since_d   │\n",
      "│    date    │\n",
      "├────────────┤\n",
      "│ 2023-11-01 │\n",
      "└────────────┘\n",
      "\n"
     ]
    },
    {
     "data": {
      "text/plain": [
       "┌──────────────────┬────────┬───────────┬─────────────────┐\n",
       "│     Category     │ Total  │ Per Month │ Per Month Since │\n",
       "│     varchar      │ double │  double   │     double      │\n",
       "├──────────────────┼────────┼───────────┼─────────────────┤\n",
       "│ Transport        │  467.0 │      93.4 │            41.0 │\n",
       "│ Subscri & Apple  │ 1853.0 │     370.6 │            81.0 │\n",
       "│ Rent & Essential │ 3406.0 │     681.2 │          1177.0 │\n",
       "│ Food & Grocery   │ 1502.0 │     300.4 │           221.0 │\n",
       "│ Cafe             │  582.0 │     116.4 │            38.0 │\n",
       "│ Cloth & Shopping │  292.0 │      58.4 │            51.0 │\n",
       "│ Other            │ 8113.0 │    1622.6 │          2302.0 │\n",
       "└──────────────────┴────────┴───────────┴─────────────────┘"
      ]
     },
     "execution_count": 2,
     "metadata": {},
     "output_type": "execute_result"
    }
   ],
   "source": [
    "since_date = con.sql(\"select time_bucket(interval '2 months', today() - interval 1 month) as since_d\")\n",
    "\n",
    "print(since_date)\n",
    "(\n",
    "    con.sql(\"select * from my.bank_statement\")\n",
    "    .aggregate('''\n",
    "               Category, \n",
    "               sum(\"Money Out (£)\") Total,\n",
    "               round(sum(\"Money Out (£)\") \n",
    "                / datediff('Month',min(Date), max(Date)), 2)\n",
    "                as \"Per Month\",\n",
    "               sum(\"Money Out (£)\")\n",
    "                FILTER(WHERE Date::datetime::date >= (select since_d from since_date))\n",
    "                as \"Per Month Since\"\n",
    "               ''',\n",
    "               \"Category\"\n",
    "               )\n",
    ")"
   ]
  },
  {
   "cell_type": "code",
   "execution_count": 53,
   "metadata": {},
   "outputs": [
    {
     "data": {
      "text/plain": [
       "<duckdb.duckdb.DuckDBPyConnection at 0x10a0e5530>"
      ]
     },
     "execution_count": 53,
     "metadata": {},
     "output_type": "execute_result"
    }
   ],
   "source": [
    "con"
   ]
  }
 ],
 "metadata": {
  "kernelspec": {
   "display_name": "Python 3",
   "language": "python",
   "name": "python3"
  },
  "language_info": {
   "codemirror_mode": {
    "name": "ipython",
    "version": 3
   },
   "file_extension": ".py",
   "mimetype": "text/x-python",
   "name": "python",
   "nbconvert_exporter": "python",
   "pygments_lexer": "ipython3",
   "version": "3.11.2"
  }
 },
 "nbformat": 4,
 "nbformat_minor": 2
}
