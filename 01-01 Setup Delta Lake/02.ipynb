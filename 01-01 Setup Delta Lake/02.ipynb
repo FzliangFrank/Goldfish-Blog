{
 "cells": [
  {
   "cell_type": "markdown",
   "metadata": {},
   "source": [
    "## Set Up DuckDB"
   ]
  },
  {
   "cell_type": "code",
   "execution_count": 2,
   "metadata": {},
   "outputs": [
    {
     "name": "stdout",
     "output_type": "stream",
     "text": [
      "┌───────┐\n",
      "│  42   │\n",
      "│ int32 │\n",
      "├───────┤\n",
      "│    42 │\n",
      "└───────┘\n",
      "\n"
     ]
    }
   ],
   "source": [
    "import duckdb\n",
    "duckdb.sql('SELECT 42').show()"
   ]
  },
  {
   "cell_type": "code",
   "execution_count": 3,
   "metadata": {},
   "outputs": [
    {
     "data": {
      "text/plain": [
       "┌─────────────────────┬──────────────────┬─────────┬──────────────┬───────────────┬─────────────┬───────────┐\n",
       "│        Date         │   Description    │  Type   │ Money In (£) │ Money Out (£) │ Balance (£) │ Category  │\n",
       "│      timestamp      │     varchar      │ varchar │    double    │    double     │   double    │  varchar  │\n",
       "├─────────────────────┼──────────────────┼─────────┼──────────────┼───────────────┼─────────────┼───────────┤\n",
       "│ 2023-10-02 00:00:00 │ STGCOACH/CTYLINK │ DEB     │          0.0 │           2.0 │      5770.0 │ Transport │\n",
       "│ 2023-10-02 00:00:00 │ PRET A MANGER    │ DEB     │          0.0 │           5.0 │      5764.0 │ Cafe      │\n",
       "│ 2023-10-02 00:00:00 │ STGCOACH/CTYLINK │ DEB     │          0.0 │           2.0 │      5762.0 │ Transport │\n",
       "└─────────────────────┴──────────────────┴─────────┴──────────────┴───────────────┴─────────────┴───────────┘"
      ]
     },
     "execution_count": 3,
     "metadata": {},
     "output_type": "execute_result"
    }
   ],
   "source": [
    "con = duckdb.connect()\n",
    "duckdb.sql('SELECT * FROM \"ingest/bank-data.parquet\" limit 3')#.df() method return pandas dataframe"
   ]
  },
  {
   "cell_type": "code",
   "execution_count": null,
   "metadata": {},
   "outputs": [],
   "source": [
    "import duckdb\n",
    "\n",
    "with duckdb.connect('file.db') as con:\n",
    "    con.sql('CREATE TABLE test(i INTEGER)')\n",
    "    con.sql('INSERT INTO test VALUES (42)')\n",
    "    con.table('test').show()"
   ]
  },
  {
   "cell_type": "code",
   "execution_count": 6,
   "metadata": {},
   "outputs": [],
   "source": [
    "con=duckdb.connect('file.db')\n",
    "con.table('test')\n",
    "\n",
    "con.install_extension(\"spatial\")\n",
    "con.install_extension(\"spatial\")"
   ]
  },
  {
   "cell_type": "markdown",
   "metadata": {},
   "source": [
    "## Details\n",
    "Create a DuctDBPyConnection object. You can then use this connection with python `with` as live connection object.\n",
    "- If the database file does not exist, it will be created\n",
    "- the file extension may be .db, .duckdb, or anything else\n",
    "- The special value :memory: (the default) can be used to create an in-memory database.\n",
    "- Read-only mode is required if multiple Python processes want to access the same database file at the same time.\n",
    "- providing the special value :default: to connect.\n"
   ]
  },
  {
   "cell_type": "markdown",
   "metadata": {},
   "source": [
    "### Parametrised Query"
   ]
  },
  {
   "cell_type": "code",
   "execution_count": 7,
   "metadata": {},
   "outputs": [
    {
     "data": {
      "text/plain": [
       "[(5, 'DuckDB', [42])]"
      ]
     },
     "execution_count": 7,
     "metadata": {},
     "output_type": "execute_result"
    }
   ],
   "source": [
    "duckdb.execute(\"\"\"\n",
    "    SELECT\n",
    "        $my_param,\n",
    "        $other_param,\n",
    "        $also_param\n",
    "    \"\"\",\n",
    "    {\n",
    "        'my_param': 5,\n",
    "        'other_param': 'DuckDB',\n",
    "        'also_param': [42]\n",
    "    }\n",
    ").fetchall()"
   ]
  },
  {
   "cell_type": "code",
   "execution_count": 8,
   "metadata": {},
   "outputs": [
    {
     "name": "stdout",
     "output_type": "stream",
     "text": [
      "[('jeans', Decimal('20.00'), 1), ('hammer', Decimal('42.20'), 2)]\n"
     ]
    }
   ],
   "source": [
    "# create a table\n",
    "con.execute(\"CREATE TABLE items(item VARCHAR, value DECIMAL(10, 2), count INTEGER)\")\n",
    "# insert two items into the table\n",
    "con.execute(\"INSERT INTO items VALUES ('jeans', 20.0, 1), ('hammer', 42.2, 2)\")\n",
    "\n",
    "# retrieve the items again\n",
    "con.execute(\"SELECT * FROM items\")\n",
    "print(con.fetchall())"
   ]
  },
  {
   "cell_type": "code",
   "execution_count": 9,
   "metadata": {},
   "outputs": [
    {
     "name": "stdout",
     "output_type": "stream",
     "text": [
      "[('jeans', Decimal('20.00'), 1), ('hammer', Decimal('42.20'), 2)]\n"
     ]
    }
   ],
   "source": [
    "con.execute(\"SELECT * FROM items\")\n",
    "print(con.fetchall())"
   ]
  },
  {
   "cell_type": "markdown",
   "metadata": {},
   "source": [
    "### Replacement Scan"
   ]
  },
  {
   "cell_type": "code",
   "execution_count": 10,
   "metadata": {},
   "outputs": [],
   "source": [
    "my_statement = duckdb.sql('SELECT * FROM \"ingest/bank-data.parquet\"')"
   ]
  },
  {
   "cell_type": "code",
   "execution_count": 11,
   "metadata": {},
   "outputs": [
    {
     "data": {
      "text/plain": [
       "┌─────────────────────┬────────────────────┬─────────┬──────────────┬───────────────┬─────────────┬────────────────┐\n",
       "│        Date         │    Description     │  Type   │ Money In (£) │ Money Out (£) │ Balance (£) │    Category    │\n",
       "│      timestamp      │      varchar       │ varchar │    double    │    double     │   double    │    varchar     │\n",
       "├─────────────────────┼────────────────────┼─────────┼──────────────┼───────────────┼─────────────┼────────────────┤\n",
       "│ 2023-11-23 00:00:00 │ TESCO STORES 2487  │ DEB     │          0.0 │           3.0 │      3777.0 │ Food & Grocery │\n",
       "│ 2023-06-14 00:00:00 │ COSTA COFFEE 43011 │ DEB     │          0.0 │           6.0 │      3590.0 │ Cafe           │\n",
       "│ 2023-06-08 00:00:00 │ CO-OP GROUP 070527 │ DEB     │          0.0 │           4.0 │      4341.0 │ Food & Grocery │\n",
       "└─────────────────────┴────────────────────┴─────────┴──────────────┴───────────────┴─────────────┴────────────────┘"
      ]
     },
     "execution_count": 11,
     "metadata": {},
     "output_type": "execute_result"
    }
   ],
   "source": [
    "duckdb.sql(\"select * from my_statement order by random() limit 3\")"
   ]
  },
  {
   "cell_type": "code",
   "execution_count": 12,
   "metadata": {},
   "outputs": [
    {
     "data": {
      "text/plain": [
       "┌─────────────────────────────┐\n",
       "│ round(mean(avg_per_day), 2) │\n",
       "│           double            │\n",
       "├─────────────────────────────┤\n",
       "│                       67.77 │\n",
       "└─────────────────────────────┘"
      ]
     },
     "execution_count": 12,
     "metadata": {},
     "output_type": "execute_result"
    }
   ],
   "source": [
    "duckdb.sql('''\n",
    "           select *, date_trunc('week', Date) as month\n",
    "           from my_statement\n",
    "           where Category != 'Rent & Essential'\n",
    "           ''')\\\n",
    "           .aggregate('month, round(sum(\"Money Out (£)\")/7, 2) as avg_per_day')\\\n",
    "           .aggregate('round(mean(avg_per_day), 2)')"
   ]
  },
  {
   "cell_type": "markdown",
   "metadata": {},
   "source": [
    "### aggregate(): this is part of ibis frameworkd"
   ]
  },
  {
   "cell_type": "code",
   "execution_count": 13,
   "metadata": {},
   "outputs": [
    {
     "data": {
      "text/plain": [
       "┌──────────────────┬────────────────────┐\n",
       "│        g         │ sum(\"Balance (£)\") │\n",
       "│     varchar      │       double       │\n",
       "├──────────────────┼────────────────────┤\n",
       "│ Rent & Essential │            28377.0 │\n",
       "│ Cafe             │           457548.0 │\n",
       "│ Cloth & Shopping │            19190.0 │\n",
       "│ Transport        │           644101.0 │\n",
       "│ Subscri & Apple  │           251391.0 │\n",
       "│ Other            │          1283628.0 │\n",
       "│ Food & Grocery   │           682436.0 │\n",
       "└──────────────────┴────────────────────┘"
      ]
     },
     "execution_count": 13,
     "metadata": {},
     "output_type": "execute_result"
    }
   ],
   "source": [
    "my_statement.aggregate('Category as g, sum(\"Balance (£)\")')"
   ]
  },
  {
   "cell_type": "markdown",
   "metadata": {},
   "source": [
    "### Jupyter Extensions"
   ]
  },
  {
   "cell_type": "code",
   "execution_count": 14,
   "metadata": {},
   "outputs": [],
   "source": [
    "%load_ext sql\n",
    "conn = duckdb.connect()\n",
    "%sql conn --alias duckdb"
   ]
  },
  {
   "cell_type": "code",
   "execution_count": null,
   "metadata": {},
   "outputs": [
    {
     "data": {
      "text/html": [
       "<span style=\"None\">Running query in &#x27;duckdb&#x27;</span>"
      ],
      "text/plain": [
       "Running query in 'duckdb'"
      ]
     },
     "metadata": {},
     "output_type": "display_data"
    },
    {
     "data": {
      "text/html": [
       "<table>\n",
       "    <thead>\n",
       "        <tr>\n",
       "            <th>Date</th>\n",
       "            <th>Description</th>\n",
       "            <th>Type</th>\n",
       "            <th>Money In (£)</th>\n",
       "            <th>Money Out (£)</th>\n",
       "            <th>Balance (£)</th>\n",
       "            <th>Category</th>\n",
       "        </tr>\n",
       "    </thead>\n",
       "    <tbody>\n",
       "        <tr>\n",
       "            <td>2023-08-31 00:00:00</td>\n",
       "            <td>FULL FIBRE LIMITED</td>\n",
       "            <td>BGC</td>\n",
       "            <td>2327.0</td>\n",
       "            <td>0.0</td>\n",
       "            <td>5153.0</td>\n",
       "            <td>Other</td>\n",
       "        </tr>\n",
       "        <tr>\n",
       "            <td>2023-08-31 00:00:00</td>\n",
       "            <td>STGCOACH/CTYLINK</td>\n",
       "            <td>DEB</td>\n",
       "            <td>0.0</td>\n",
       "            <td>2.0</td>\n",
       "            <td>5154.0</td>\n",
       "            <td>Transport</td>\n",
       "        </tr>\n",
       "        <tr>\n",
       "            <td>2023-10-02 00:00:00</td>\n",
       "            <td>EXETER CITY COUNCI</td>\n",
       "            <td>DD</td>\n",
       "            <td>0.0</td>\n",
       "            <td>29.0</td>\n",
       "            <td>5666.0</td>\n",
       "            <td>Subscri & Apple</td>\n",
       "        </tr>\n",
       "    </tbody>\n",
       "</table>"
      ],
      "text/plain": [
       "+---------------------+--------------------+------+--------------+---------------+-------------+-----------------+\n",
       "|         Date        |    Description     | Type | Money In (£) | Money Out (£) | Balance (£) |     Category    |\n",
       "+---------------------+--------------------+------+--------------+---------------+-------------+-----------------+\n",
       "| 2023-08-31 00:00:00 | FULL FIBRE LIMITED | BGC  |    2327.0    |      0.0      |    5153.0   |      Other      |\n",
       "| 2023-08-31 00:00:00 |  STGCOACH/CTYLINK  | DEB  |     0.0      |      2.0      |    5154.0   |    Transport    |\n",
       "| 2023-10-02 00:00:00 | EXETER CITY COUNCI |  DD  |     0.0      |      29.0     |    5666.0   | Subscri & Apple |\n",
       "+---------------------+--------------------+------+--------------+---------------+-------------+-----------------+"
      ]
     },
     "execution_count": 87,
     "metadata": {},
     "output_type": "execute_result"
    }
   ],
   "source": [
    "%sql select * from my_statement order by random() limit 3"
   ]
  },
  {
   "cell_type": "code",
   "execution_count": null,
   "metadata": {},
   "outputs": [
    {
     "data": {
      "text/html": [
       "<span style=\"None\">Running query in &#x27;duckdb&#x27;</span>"
      ],
      "text/plain": [
       "Running query in 'duckdb'"
      ]
     },
     "metadata": {},
     "output_type": "display_data"
    },
    {
     "data": {
      "text/html": [
       "<table>\n",
       "    <thead>\n",
       "        <tr>\n",
       "            <th>Date</th>\n",
       "            <th>Description</th>\n",
       "            <th>Type</th>\n",
       "            <th>Money In (£)</th>\n",
       "            <th>Money Out (£)</th>\n",
       "            <th>Balance (£)</th>\n",
       "            <th>Category</th>\n",
       "        </tr>\n",
       "    </thead>\n",
       "    <tbody>\n",
       "        <tr>\n",
       "            <td>2023-10-16 00:00:00</td>\n",
       "            <td>AllSaints Exeter</td>\n",
       "            <td>DEB</td>\n",
       "            <td>0.0</td>\n",
       "            <td>130.0</td>\n",
       "            <td>4753.0</td>\n",
       "            <td>Other</td>\n",
       "        </tr>\n",
       "        <tr>\n",
       "            <td>2023-10-26 00:00:00</td>\n",
       "            <td>APPLE</td>\n",
       "            <td>DEB</td>\n",
       "            <td>0.0</td>\n",
       "            <td>1099.0</td>\n",
       "            <td>3273.0</td>\n",
       "            <td>Subscri & Apple</td>\n",
       "        </tr>\n",
       "        <tr>\n",
       "            <td>2023-10-30 00:00:00</td>\n",
       "            <td>STEPHEN GIBSON</td>\n",
       "            <td>FPO</td>\n",
       "            <td>0.0</td>\n",
       "            <td>350.0</td>\n",
       "            <td>2808.0</td>\n",
       "            <td>Rent & Essential</td>\n",
       "        </tr>\n",
       "        <tr>\n",
       "            <td>2023-11-06 00:00:00</td>\n",
       "            <td>TIME FLIES</td>\n",
       "            <td>DEB</td>\n",
       "            <td>0.0</td>\n",
       "            <td>175.0</td>\n",
       "            <td>4485.0</td>\n",
       "            <td>Other</td>\n",
       "        </tr>\n",
       "        <tr>\n",
       "            <td>2023-11-20 00:00:00</td>\n",
       "            <td>WH Smith Exeter</td>\n",
       "            <td>DEB</td>\n",
       "            <td>0.0</td>\n",
       "            <td>102.0</td>\n",
       "            <td>3892.0</td>\n",
       "            <td>Other</td>\n",
       "        </tr>\n",
       "        <tr>\n",
       "            <td>2023-11-27 00:00:00</td>\n",
       "            <td>AMZNMktplace</td>\n",
       "            <td>DEB</td>\n",
       "            <td>0.0</td>\n",
       "            <td>133.0</td>\n",
       "            <td>3468.0</td>\n",
       "            <td>Other</td>\n",
       "        </tr>\n",
       "        <tr>\n",
       "            <td>2023-11-27 00:00:00</td>\n",
       "            <td>STEPHEN GIBSON</td>\n",
       "            <td>FPO</td>\n",
       "            <td>0.0</td>\n",
       "            <td>350.0</td>\n",
       "            <td>3065.0</td>\n",
       "            <td>Rent & Essential</td>\n",
       "        </tr>\n",
       "        <tr>\n",
       "            <td>2023-11-29 00:00:00</td>\n",
       "            <td>UKVISAFEE6JAA02219</td>\n",
       "            <td>DEB</td>\n",
       "            <td>0.0</td>\n",
       "            <td>827.0</td>\n",
       "            <td>2176.0</td>\n",
       "            <td>Rent & Essential</td>\n",
       "        </tr>\n",
       "        <tr>\n",
       "            <td>2023-11-29 00:00:00</td>\n",
       "            <td>IHS123411215PA01 2</td>\n",
       "            <td>DEB</td>\n",
       "            <td>0.0</td>\n",
       "            <td>1248.0</td>\n",
       "            <td>928.0</td>\n",
       "            <td>Other</td>\n",
       "        </tr>\n",
       "        <tr>\n",
       "            <td>2023-07-03 00:00:00</td>\n",
       "            <td>TRAINLINE</td>\n",
       "            <td>DEB</td>\n",
       "            <td>0.0</td>\n",
       "            <td>106.0</td>\n",
       "            <td>4376.0</td>\n",
       "            <td>Transport</td>\n",
       "        </tr>\n",
       "    </tbody>\n",
       "</table>\n",
       "<span style=\"font-style:italic;text-align:center;\">Truncated to <a href=\"https://jupysql.ploomber.io/en/latest/api/configuration.html#displaylimit\">displaylimit</a> of 10.</span>"
      ],
      "text/plain": [
       "+---------------------+--------------------+------+--------------+---------------+-------------+------------------+\n",
       "|         Date        |    Description     | Type | Money In (£) | Money Out (£) | Balance (£) |     Category     |\n",
       "+---------------------+--------------------+------+--------------+---------------+-------------+------------------+\n",
       "| 2023-10-16 00:00:00 |  AllSaints Exeter  | DEB  |     0.0      |     130.0     |    4753.0   |      Other       |\n",
       "| 2023-10-26 00:00:00 |       APPLE        | DEB  |     0.0      |     1099.0    |    3273.0   | Subscri & Apple  |\n",
       "| 2023-10-30 00:00:00 |   STEPHEN GIBSON   | FPO  |     0.0      |     350.0     |    2808.0   | Rent & Essential |\n",
       "| 2023-11-06 00:00:00 |     TIME FLIES     | DEB  |     0.0      |     175.0     |    4485.0   |      Other       |\n",
       "| 2023-11-20 00:00:00 |  WH Smith Exeter   | DEB  |     0.0      |     102.0     |    3892.0   |      Other       |\n",
       "| 2023-11-27 00:00:00 |    AMZNMktplace    | DEB  |     0.0      |     133.0     |    3468.0   |      Other       |\n",
       "| 2023-11-27 00:00:00 |   STEPHEN GIBSON   | FPO  |     0.0      |     350.0     |    3065.0   | Rent & Essential |\n",
       "| 2023-11-29 00:00:00 | UKVISAFEE6JAA02219 | DEB  |     0.0      |     827.0     |    2176.0   | Rent & Essential |\n",
       "| 2023-11-29 00:00:00 | IHS123411215PA01 2 | DEB  |     0.0      |     1248.0    |    928.0    |      Other       |\n",
       "| 2023-07-03 00:00:00 |     TRAINLINE      | DEB  |     0.0      |     106.0     |    4376.0   |    Transport     |\n",
       "+---------------------+--------------------+------+--------------+---------------+-------------+------------------+\n",
       "Truncated to displaylimit of 10."
      ]
     },
     "execution_count": 88,
     "metadata": {},
     "output_type": "execute_result"
    }
   ],
   "source": [
    "%%sql\n",
    "select * \n",
    "from my_statement\n",
    "where \"Money Out (£)\" > 100"
   ]
  },
  {
   "cell_type": "markdown",
   "metadata": {},
   "source": [
    "### Ploting without load data to in memory"
   ]
  },
  {
   "cell_type": "code",
   "execution_count": null,
   "metadata": {},
   "outputs": [
    {
     "data": {
      "text/plain": [
       "<Axes: title={'center': \"'Money Out (£)' from 'my_statement'\"}, xlabel='Money Out (£)', ylabel='Count'>"
      ]
     },
     "execution_count": 67,
     "metadata": {},
     "output_type": "execute_result"
    },
    {
     "data": {
      "image/png": "[encoded data removed]",
      "text/plain": [
       "<Figure size 640x480 with 1 Axes>"
      ]
     },
     "metadata": {},
     "output_type": "display_data"
    }
   ],
   "source": [
    "%sqlplot histogram --column \"Money Out (£)\" --table my_statement"
   ]
  },
  {
   "cell_type": "markdown",
   "metadata": {},
   "source": [
    "### ggplot api (in development)"
   ]
  },
  {
   "cell_type": "code",
   "execution_count": 16,
   "metadata": {},
   "outputs": [
    {
     "data": {
      "text/html": [
       "<span style=\"None\">Running query in &#x27;duckdb&#x27;</span>"
      ],
      "text/plain": [
       "Running query in 'duckdb'"
      ]
     },
     "metadata": {},
     "output_type": "display_data"
    }
   ],
   "source": [
    "%%sql \n",
    "clean_statement << select --save to a variable\n",
    "    Category,\n",
    "    \"Money Out (£)\" as Spending\n",
    "    from my_statement"
   ]
  },
  {
   "cell_type": "code",
   "execution_count": 17,
   "metadata": {},
   "outputs": [],
   "source": [
    "type(clean_statement)\n",
    "import pandas as pd"
   ]
  },
  {
   "cell_type": "code",
   "execution_count": 18,
   "metadata": {},
   "outputs": [
    {
     "data": {
      "text/plain": [
       "<sql.ggplot.ggplot.ggplot at 0x280d6ce10>"
      ]
     },
     "execution_count": 18,
     "metadata": {},
     "output_type": "execute_result"
    },
    {
     "data": {
      "image/png": "[encoded data removed]",
      "text/plain": [
       "<Figure size 640x480 with 1 Axes>"
      ]
     },
     "metadata": {},
     "output_type": "display_data"
    }
   ],
   "source": [
    "clean_statement = clean_statement.DataFrame() if type(clean_statement) is not pd.DataFrame else clean_statement # the result must be converted to DataFrame to allow ploting in the next line\n",
    "from sql.ggplot import ggplot, aes, geom_boxplot, geom_histogram, facet_wrap\n",
    "(\n",
    "    ggplot(table=\"clean_statement\", mapping=aes(x=\"Spending\")) +\n",
    "    geom_histogram(bins=10,fill=\"Category\")\n",
    ")"
   ]
  },
  {
   "cell_type": "markdown",
   "metadata": {},
   "source": [
    "### About Ibis Framework"
   ]
  },
  {
   "cell_type": "code",
   "execution_count": null,
   "metadata": {},
   "outputs": [
    {
     "name": "stdout",
     "output_type": "stream",
     "text": [
      "11703.48s - pydevd: Sending message related to process being replaced timed-out after 5 seconds\n",
      "Collecting ibis\n",
      "  Downloading ibis-3.3.0-py3-none-any.whl.metadata (1.3 kB)\n",
      "Downloading ibis-3.3.0-py3-none-any.whl (16 kB)\n",
      "\u001b[33mDEPRECATION: textract 1.6.5 has a non-standard dependency specifier extract-msg<=0.29.*. pip 24.0 will enforce this behaviour change. A possible replacement is to upgrade to a newer version of textract or contact the author to suggest that they release a version with a conforming dependency specifiers. Discussion can be found at https://github.com/pypa/pip/issues/12063\u001b[0m\u001b[33m\n",
      "\u001b[0mInstalling collected packages: ibis\n",
      "Successfully installed ibis-3.3.0\n",
      "Note: you may need to restart the kernel to use updated packages.\n"
     ]
    }
   ],
   "source": [
    "%pip install ibis"
   ]
  }
 ],
 "metadata": {
  "kernelspec": {
   "display_name": "Python 3",
   "language": "python",
   "name": "python3"
  },
  "language_info": {
   "codemirror_mode": {
    "name": "ipython",
    "version": 3
   },
   "file_extension": ".py",
   "mimetype": "text/x-python",
   "name": "python",
   "nbconvert_exporter": "python",
   "pygments_lexer": "ipython3",
   "version": "3.11.2"
  }
 },
 "nbformat": 4,
 "nbformat_minor": 2
}
