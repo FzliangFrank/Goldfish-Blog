{
 "cells": [
  {
   "cell_type": "code",
   "execution_count": 24,
   "metadata": {},
   "outputs": [],
   "source": [
    "import xml.etree.ElementTree as ET\n",
    "tree = ET.parse('xml-example.xml')"
   ]
  },
  {
   "cell_type": "markdown",
   "metadata": {},
   "source": [
    "Key function you should use:\n",
    "- `ElementTree.parse()` for creating obj\n",
    "- `tree.getroot()` get a root obj\n",
    "    - root is interable so you can retive everything off that level by \n",
    "    - `root.iter()` this flatten \n",
    "    - `root.iter(element)` get element only\n",
    "- `root.find()` for specific query"
   ]
  },
  {
   "cell_type": "markdown",
   "metadata": {},
   "source": [
    "This movie collection is made up of two element both start with \n",
    "Element; I've added another alien to make it stand outs"
   ]
  },
  {
   "cell_type": "code",
   "execution_count": 25,
   "metadata": {},
   "outputs": [
    {
     "name": "stdout",
     "output_type": "stream",
     "text": [
      "<Element 'genre' at 0x1071844f0>\n",
      "<Element 'genre' at 0x107185260>\n",
      "<Element 'alien' at 0x107185cb0>\n",
      "<Element 'alien' at 0x107185df0>\n"
     ]
    },
    {
     "data": {
      "text/plain": [
       "{}"
      ]
     },
     "execution_count": 25,
     "metadata": {},
     "output_type": "execute_result"
    }
   ],
   "source": [
    "for i in tree.getroot():\n",
    "    print(i)\n",
    "tree.getroot().tag\n",
    "tree.getroot().attrib"
   ]
  },
  {
   "cell_type": "code",
   "execution_count": 64,
   "metadata": {},
   "outputs": [
    {
     "name": "stdout",
     "output_type": "stream",
     "text": [
      "genre {'category': 'Action'}\n",
      "genre {'category': 'Thriller'}\n",
      "alien {'terriory': 'Mars'}\n",
      "alien {'exterriory': 'space'}\n"
     ]
    }
   ],
   "source": [
    "for i in tree.getroot():\n",
    "    print(i.tag, i.attrib)"
   ]
  },
  {
   "cell_type": "code",
   "execution_count": 65,
   "metadata": {},
   "outputs": [
    {
     "name": "stdout",
     "output_type": "stream",
     "text": [
      "collection {}\n",
      "genre {'category': 'Action'}\n",
      "decade {'years': '1980s'}\n",
      "movie {'favorite': 'True', 'title': 'Indiana Jones: The raiders of the lost Ark'}\n",
      "format {'multiple': 'No'}\n",
      "year {}\n",
      "rating {}\n",
      "description {}\n",
      "movie {'favorite': 'True', 'title': 'THE KARATE KID'}\n",
      "format {'multiple': 'Yes'}\n",
      "year {}\n",
      "rating {}\n",
      "description {}\n",
      "movie {'favorite': 'False', 'title': 'Back 2 the Future'}\n",
      "format {'multiple': 'False'}\n",
      "year {}\n",
      "rating {}\n",
      "description {}\n",
      "decade {'years': '1990s'}\n",
      "movie {'favorite': 'False', 'title': 'X-Men'}\n",
      "format {'multiple': 'Yes'}\n",
      "year {}\n",
      "rating {}\n",
      "description {}\n",
      "movie {'favorite': 'True', 'title': 'Batman Returns'}\n",
      "format {'multiple': 'No'}\n",
      "year {}\n",
      "rating {}\n",
      "description {}\n",
      "movie {'favorite': 'False', 'title': 'Reservoir Dogs'}\n",
      "format {'multiple': 'No'}\n",
      "year {}\n",
      "rating {}\n",
      "description {}\n",
      "genre {'category': 'Thriller'}\n",
      "decade {'years': '1970s'}\n",
      "movie {'favorite': 'False', 'title': 'ALIEN'}\n",
      "format {'multiple': 'Yes'}\n",
      "year {}\n",
      "rating {}\n",
      "description {}\n",
      "decade {'years': '1980s'}\n",
      "movie {'favorite': 'True', 'title': \"Ferris Bueller's Day Off\"}\n",
      "format {'multiple': 'No'}\n",
      "year {}\n",
      "rating {}\n",
      "description {}\n",
      "movie {'favorite': 'FALSE', 'title': 'American Psycho'}\n",
      "format {'multiple': 'No'}\n",
      "year {}\n",
      "rating {}\n",
      "description {}\n",
      "alien {'terriory': 'Mars'}\n",
      "physical {}\n",
      "height {}\n",
      "skincolor {}\n",
      "alien {'exterriory': 'space'}\n"
     ]
    }
   ],
   "source": [
    "for m in tree.getroot().iter():\n",
    "    print(m.tag, m.attrib)"
   ]
  },
  {
   "cell_type": "code",
   "execution_count": 36,
   "metadata": {},
   "outputs": [
    {
     "data": {
      "text/plain": [
       "[{'favorite': 'True', 'title': 'Indiana Jones: The raiders of the lost Ark'},\n",
       " {'favorite': 'True', 'title': 'THE KARATE KID'},\n",
       " {'favorite': 'False', 'title': 'Back 2 the Future'},\n",
       " {'favorite': 'False', 'title': 'X-Men'},\n",
       " {'favorite': 'True', 'title': 'Batman Returns'},\n",
       " {'favorite': 'False', 'title': 'Reservoir Dogs'},\n",
       " {'favorite': 'False', 'title': 'ALIEN'},\n",
       " {'favorite': 'True', 'title': \"Ferris Bueller's Day Off\"},\n",
       " {'favorite': 'FALSE', 'title': 'American Psycho'}]"
      ]
     },
     "execution_count": 36,
     "metadata": {},
     "output_type": "execute_result"
    }
   ],
   "source": [
    "# retrive element remove xml structure \n",
    "x = [ele.tag for ele in tree.getroot().iter()]\n",
    "set(x)\n",
    "movies = [ele.attrib for ele in tree.getroot().iter('movie')]\n",
    "movies"
   ]
  },
  {
   "cell_type": "code",
   "execution_count": 40,
   "metadata": {},
   "outputs": [
    {
     "data": {
      "text/plain": [
       "['Indiana Jones: The raiders of the lost Ark',\n",
       " 'THE KARATE KID',\n",
       " 'Back 2 the Future',\n",
       " 'X-Men',\n",
       " 'Batman Returns',\n",
       " 'Reservoir Dogs',\n",
       " 'ALIEN',\n",
       " \"Ferris Bueller's Day Off\",\n",
       " 'American Psycho']"
      ]
     },
     "execution_count": 40,
     "metadata": {},
     "output_type": "execute_result"
    }
   ],
   "source": [
    "[ele.attrib.get(\"title\") for ele in tree.getroot().iter('movie')]"
   ]
  },
  {
   "cell_type": "code",
   "execution_count": 61,
   "metadata": {},
   "outputs": [
    {
     "data": {
      "text/plain": [
       "[{'movie': {'favorite': 'False', 'title': 'X-Men'}},\n",
       " {'movie': {'favorite': 'FALSE', 'title': 'American Psycho'}}]"
      ]
     },
     "execution_count": 61,
     "metadata": {},
     "output_type": "execute_result"
    }
   ],
   "source": [
    "root = tree.getroot()\n",
    "movie_2000 = [i for i in root.findall(\"./genre/decade/movie/[year='2000']\")]\n",
    "[{mv.tag: mv.attrib} for mv in movie_2000]"
   ]
  },
  {
   "cell_type": "code",
   "execution_count": 73,
   "metadata": {},
   "outputs": [
    {
     "name": "stdout",
     "output_type": "stream",
     "text": [
      "b'<collection>\\n    <genre category=\"Action\">\\n        <decade years=\"1980s\">\\n            <movie favorite=\"True\" title=\"Indiana Jones: The raiders of the lost Ark\">\\n                <format multiple=\"No\">DVD</format>\\n                <year>1981</year>\\n                <rating>PG</rating>\\n                <description>\\n                \\'Archaeologist and adventurer Indiana Jones \\n                is hired by the U.S. government to find the Ark of the \\n                Covenant before the Nazis.\\'\\n                </description>\\n            </movie>\\n               <movie favorite=\"True\" title=\"THE KARATE KID\">\\n               <format multiple=\"Yes\">DVD,Online</format>\\n               <year>1984</year>\\n               <rating>PG</rating>\\n               <description>None provided.</description>\\n            </movie>\\n            <movie favorite=\"False\" title=\"Back 2 the Future\">\\n               <format multiple=\"False\">Blu-ray</format>\\n               <year>1985</year>\\n               <rating>PG</rating>\\n               <description>Marty McFly</description>\\n            </movie>\\n        </decade>\\n        <decade years=\"1990s\">\\n            <movie favorite=\"False\" title=\"X-Men\">\\n               <format multiple=\"Yes\">dvd, digital</format>\\n               <year>2000</year>\\n               <rating>PG-13</rating>\\n               <description>Two mutants come to a private academy for their kind whose resident superhero team must \\n               oppose a terrorist organization with similar powers.</description>\\n            </movie>\\n            <movie favorite=\"True\" title=\"Batman Returns\">\\n               <format multiple=\"No\">VHS</format>\\n               <year>1992</year>\\n               <rating>PG13</rating>\\n               <description>NA.</description>\\n            </movie>\\n               <movie favorite=\"False\" title=\"Reservoir Dogs\">\\n               <format multiple=\"No\">Online</format>\\n               <year>1992</year>\\n               <rating>R</rating>\\n               <description>WhAtEvER I Want!!!?!</description>\\n            </movie>\\n        </decade>    \\n    </genre>\\n\\n    <genre category=\"Thriller\">\\n        <decade years=\"1970s\">\\n            <movie favorite=\"False\" title=\"ALIEN\">\\n                <format multiple=\"Yes\">DVD</format>\\n                <year>1979</year>\\n                <rating>R</rating>\\n                <description>\"\"\"\"\"\"\"\"\"</description>\\n            </movie>\\n        </decade>\\n        <decade years=\"1980s\">\\n            <movie favorite=\"True\" title=\"Ferris Bueller\\'s Day Off\">\\n                <format multiple=\"No\">DVD</format>\\n                <year>1986</year>\\n                <rating>PG13</rating>\\n                <description>Funny movie about a funny guy</description>\\n            </movie>\\n            <movie favorite=\"FALSE\" title=\"American Psycho\">\\n                <format multiple=\"No\">blue-ray</format>\\n                <year>2000</year>\\n                <rating>Unrated</rating>\\n                <description>psychopathic Bateman</description>\\n            </movie>\\n        </decade>\\n    </genre>\\n    <alien terriory=\"Mars\">\\n        <physical>\\n            <height>180</height>\\n            <skincolor>orange</skincolor>\\n        </physical>\\n    </alien>\\n    <alien exterriory=\"space\">\\n    </alien>\\n</collection>'\n"
     ]
    }
   ],
   "source": [
    "print(ET.tostring(root))"
   ]
  },
  {
   "cell_type": "code",
   "execution_count": 68,
   "metadata": {},
   "outputs": [
    {
     "data": {
      "text/plain": [
       "[{'movie': {'favorite': 'False', 'title': 'X-Men'}},\n",
       " {'format': {'multiple': 'Yes'}},\n",
       " {'year': {}},\n",
       " {'rating': {}},\n",
       " {'description': {}}]"
      ]
     },
     "execution_count": 68,
     "metadata": {},
     "output_type": "execute_result"
    }
   ],
   "source": [
    "[{i.tag:i.attrib} for i in movie_2000[0].iter()]"
   ]
  }
 ],
 "metadata": {
  "kernelspec": {
   "display_name": "Python 3",
   "language": "python",
   "name": "python3"
  },
  "language_info": {
   "codemirror_mode": {
    "name": "ipython",
    "version": 3
   },
   "file_extension": ".py",
   "mimetype": "text/x-python",
   "name": "python",
   "nbconvert_exporter": "python",
   "pygments_lexer": "ipython3",
   "version": "3.11.2"
  },
  "orig_nbformat": 4
 },
 "nbformat": 4,
 "nbformat_minor": 2
}
