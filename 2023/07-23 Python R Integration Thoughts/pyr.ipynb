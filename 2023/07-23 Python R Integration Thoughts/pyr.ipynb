{
 "cells": [
  {
   "cell_type": "markdown",
   "metadata": {},
   "source": [
    "# RPY2 \n",
    "\n",
    "In this notebook we explore how to work between python and R. (spoil alert use package `rpy2`)\n",
    "\n",
    "I want to be able to: \n",
    "\n",
    "- [ ] avoid install same C package twice \n",
    "- [ ] dependency from R is automatically managed\n",
    "\n",
    "[tutorial](https://appsilon.com/use-r-and-python-together/)\n",
    "[rpy2 documentation](https://rpy2.github.io/doc/latest/html/robjects_oop.html)"
   ]
  },
  {
   "cell_type": "code",
   "execution_count": 8,
   "metadata": {},
   "outputs": [
    {
     "name": "stdout",
     "output_type": "stream",
     "text": [
      "# A tbl_graph: 20 nodes and 19 edges\n",
      "#\n",
      "# A rooted tree\n",
      "#\n",
      "# A tibble: 20 × 5\n",
      "  label attr1_int attr2_letter attr3_numb             attr4_geom\n",
      "  <chr>     <int> <chr>             <dbl>                <POINT>\n",
      "1 n            10 C                  69.7  (0.6847228 0.9431201)\n",
      "2 x             2 N                  97.5  (0.4203471 0.8284371)\n",
      "3 d             1 I                  40.9  (0.8806714 0.1004351)\n",
      "4 a             1 Q                  94.7  (0.2708744 0.8812651)\n",
      "5 y             4 Z                  74.5 (0.01204976 0.0760956)\n",
      "6 t             7 Z                  88.5  (0.7070762 0.8044622)\n",
      "# ℹ 14 more rows\n",
      "#\n",
      "# A tibble: 19 × 3\n",
      "   from    to attr1\n",
      "  <int> <int> <dbl>\n",
      "1     1     2  81.9\n",
      "2     1     3  50.9\n",
      "3     1     4  53.7\n",
      "# ℹ 16 more rows\n"
     ]
    }
   ],
   "source": [
    "import subprocess\n",
    "res = subprocess.call(\"Rscript script.R\", shell = True)"
   ]
  },
  {
   "cell_type": "markdown",
   "metadata": {},
   "source": [
    "This process don't let you access an R object; for that you using a different output"
   ]
  },
  {
   "cell_type": "markdown",
   "metadata": {},
   "source": [
    "### robject"
   ]
  },
  {
   "cell_type": "code",
   "execution_count": 75,
   "metadata": {},
   "outputs": [],
   "source": [
    "#!pip install rp`y2\n",
    "from rpy2 import robjects"
   ]
  },
  {
   "cell_type": "code",
   "execution_count": 21,
   "metadata": {},
   "outputs": [
    {
     "data": {
      "text/plain": [
       "rpy2.robjects.vectors.FloatVector"
      ]
     },
     "execution_count": 21,
     "metadata": {},
     "output_type": "execute_result"
    }
   ],
   "source": [
    "# a R object with whatever\n",
    "r1 = robjects.r('''\n",
    "    add_nums <- function(x, y) {\n",
    "        return(x + y)\n",
    "    }\n",
    "    \n",
    "    v1 = (add_nums(x = 5, y = 10))\n",
    "    v2 = (add_nums(x = 10, y = 20))\n",
    "    v2\n",
    "''')\n",
    "# r1['v2'] this will fail because r1 is not enviromnt\n",
    "r1\n",
    "type(r1)"
   ]
  },
  {
   "cell_type": "markdown",
   "metadata": {},
   "source": [
    "### robjects.packages"
   ]
  },
  {
   "cell_type": "code",
   "execution_count": 30,
   "metadata": {},
   "outputs": [],
   "source": [
    "import rpy2.robjects.packages as rpackages\n",
    "sfnt = rpackages.importr('sfnetworks')"
   ]
  },
  {
   "cell_type": "code",
   "execution_count": 51,
   "metadata": {},
   "outputs": [],
   "source": [
    "edge_node = x = robjects.r('''\n",
    "    require(sf)\n",
    "    p1 = st_point(c(7, 51))\n",
    "    p2 = st_point(c(7, 52))\n",
    "    p3 = st_point(c(8, 52))\n",
    "    p4 = st_point(c(8, 51.5))\n",
    "\n",
    "    l1 = st_sfc(st_linestring(c(p1, p2)))\n",
    "    l2 = st_sfc(st_linestring(c(p1, p4, p3)))\n",
    "    l3 = st_sfc(st_linestring(c(p3, p2)))\n",
    "\n",
    "    edges = st_as_sf(c(l1, l2, l3), crs = 4326)\n",
    "    nodes = st_as_sf(c(st_sfc(p1), st_sfc(p2), st_sfc(p3)), crs = 4326)\n",
    "                           \n",
    "    edges$from = c(1, 1, 3)\n",
    "    edges$to = c(2, 3, 2)\n",
    "                           \n",
    "    list(edges, nodes)\n",
    "''')\n"
   ]
  },
  {
   "cell_type": "code",
   "execution_count": 49,
   "metadata": {},
   "outputs": [
    {
     "data": {
      "text/plain": [
       "rpy2.robjects.vectors.DataFrame"
      ]
     },
     "execution_count": 49,
     "metadata": {},
     "output_type": "execute_result"
    }
   ],
   "source": []
  },
  {
   "cell_type": "code",
   "execution_count": 77,
   "metadata": {},
   "outputs": [
    {
     "name": "stderr",
     "output_type": "stream",
     "text": [
      "R[write to console]: Checking if spatial network structure is valid...\n",
      "\n",
      "R[write to console]: Spatial network structure is valid\n",
      "\n"
     ]
    },
    {
     "data": {
      "text/html": [
       "\n",
       "        <span>IntVector with 1 elements.</span>\n",
       "        <table>\n",
       "        <tbody>\n",
       "          <tr>\n",
       "          \n",
       "            <td>\n",
       "            2\n",
       "            </td>\n",
       "          \n",
       "          </tr>\n",
       "        </tbody>\n",
       "        </table>\n",
       "        "
      ],
      "text/plain": [
       "<rpy2.robjects.vectors.IntVector object at 0x1283db790> [13]\n",
       "R classes: ('integer',)\n",
       "[2]"
      ]
     },
     "execution_count": 77,
     "metadata": {},
     "output_type": "execute_result"
    }
   ],
   "source": [
    "net = sfnt.sfnetwork(\n",
    "    nodes = edge_node[1],\n",
    "    edges = edge_node[0]\n",
    ")\n",
    "\n",
    "grdevices = rpackages.importr('grDevices')\n",
    "# begain of line\n",
    "grdevices.png(file=\"sf.png\", width=1024, height=512)\n",
    "\n",
    "# ploting function\n",
    "sfnt.plot_sfnetwork(net) # plot method is directly explorted by sfnt\n",
    "\n",
    "grdevices.dev_off()\n",
    "# end with dev off"
   ]
  },
  {
   "cell_type": "markdown",
   "metadata": {},
   "source": [
    "more about [sf network](https://luukvdmeer.github.io/sfnetworks/articles/sfn01_structure.html)"
   ]
  },
  {
   "cell_type": "markdown",
   "metadata": {},
   "source": []
  }
 ],
 "metadata": {
  "kernelspec": {
   "display_name": "Python 3",
   "language": "python",
   "name": "python3"
  },
  "language_info": {
   "codemirror_mode": {
    "name": "ipython",
    "version": 3
   },
   "file_extension": ".py",
   "mimetype": "text/x-python",
   "name": "python",
   "nbconvert_exporter": "python",
   "pygments_lexer": "ipython3",
   "version": "3.11.2"
  },
  "orig_nbformat": 4
 },
 "nbformat": 4,
 "nbformat_minor": 2
}
